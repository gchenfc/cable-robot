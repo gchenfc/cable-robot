{
 "cells": [
  {
   "cell_type": "code",
   "execution_count": null,
   "metadata": {},
   "outputs": [],
   "source": [
    "%load_ext autoreload\n",
    "%autoreload 2\n",
    "import time\n",
    "from continuous_recalibration import ContinuousRecalibration\n",
    "from read_tags import Detector\n",
    "import numpy as np\n",
    "import plotly.express as px"
   ]
  },
  {
   "cell_type": "code",
   "execution_count": null,
   "metadata": {},
   "outputs": [],
   "source": [
    "initial_lparams = np.array([[-5.39622604e-03, -7.55211558e-04, -6.64543613e-03, -1.23351185e-02],\n",
    "                            [4.89951909e-01, 2.22615412e-01, 2.81593933e-01, 5.03432217e-01],\n",
    "                            [2.57621490e+00, 4.13689341e+00, 4.23045204e+00, 2.70388820e+00]])\n",
    "with ContinuousRecalibration(initial_lparams=initial_lparams) as cr:\n",
    "    cr.update_robot()\n",
    "    time.sleep(1)\n",
    "    cr.update_robot()\n",
    "    t, anchor_locs, ee_loc = cr.read_one_tag()\n",
    "    print(cr.canonicalize_anchors(anchor_locs))\n",
    "    print(cr.nearest_robot_ls(t))\n",
    "    print(cr.calibrate(t, anchor_locs, ee_loc))"
   ]
  },
  {
   "cell_type": "code",
   "execution_count": null,
   "metadata": {},
   "outputs": [],
   "source": [
    "params_history = []\n",
    "t_history = []\n",
    "with ContinuousRecalibration(initial_lparams=initial_lparams, lpf_alpha=1) as cr:\n",
    "    for i in range(100):\n",
    "        cr.update()\n",
    "        params_history.append(cr.params.copy())\n",
    "        t_history.append(cr.last_t)\n",
    "params_history = np.array(params_history)\n",
    "t_history = np.array(t_history)"
   ]
  },
  {
   "cell_type": "code",
   "execution_count": null,
   "metadata": {},
   "outputs": [],
   "source": [
    "t = t_history - t_history[0]\n",
    "fig = px.scatter(x=t, y=params_history[:, 2, 0])\n",
    "# fig.add_trace(px.scatter(x=t, y=params_history[:, 2, 1]).data[0])\n",
    "# fig.add_trace(px.scatter(x=t, y=params_history[:, 2, 2]).data[0])\n",
    "# fig.add_trace(px.scatter(x=t, y=params_history[:, 2, 3]).data[0])\n",
    "fig.update_traces(mode='lines+markers')"
   ]
  },
  {
   "cell_type": "code",
   "execution_count": null,
   "metadata": {},
   "outputs": [],
   "source": [
    "with ContinuousRecalibration(initial_lparams=initial_lparams, lpf_alpha=0.01) as cr:\n",
    "    while True:\n",
    "        cr.update(dry_run=False)"
   ]
  },
  {
   "cell_type": "code",
   "execution_count": null,
   "metadata": {},
   "outputs": [],
   "source": []
  }
 ],
 "metadata": {
  "kernelspec": {
   "display_name": "base",
   "language": "python",
   "name": "python3"
  },
  "language_info": {
   "codemirror_mode": {
    "name": "ipython",
    "version": 3
   },
   "file_extension": ".py",
   "mimetype": "text/x-python",
   "name": "python",
   "nbconvert_exporter": "python",
   "pygments_lexer": "ipython3",
   "version": "3.9.15"
  },
  "orig_nbformat": 4
 },
 "nbformat": 4,
 "nbformat_minor": 2
}
