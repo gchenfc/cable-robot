{
 "cells": [
  {
   "cell_type": "code",
   "execution_count": null,
   "metadata": {},
   "outputs": [],
   "source": [
    "%load_ext autoreload\n",
    "%autoreload 2"
   ]
  },
  {
   "cell_type": "code",
   "execution_count": null,
   "metadata": {},
   "outputs": [],
   "source": [
    "import numpy as np\n",
    "import matplotlib.pyplot as plt\n",
    "from read_tags import Detector\n",
    "import matplotlib\n",
    "import time"
   ]
  },
  {
   "cell_type": "code",
   "execution_count": null,
   "metadata": {},
   "outputs": [],
   "source": [
    "def collect_translations(duration=30, max_frames=None, expected_number_of_tags=4):\n",
    "    tstart = time.time()\n",
    "    all_ts = []\n",
    "    with Detector() as detector:\n",
    "        while time.time() - tstart < duration:\n",
    "            t, detections = detector.detect()\n",
    "            if len(detections) != expected_number_of_tags:\n",
    "                continue\n",
    "            ts = np.hstack([detect.t for detect in detections])\n",
    "            all_ts.append(ts)\n",
    "            if max_frames is not None and len(all_ts) >= max_frames:\n",
    "                break\n",
    "    return np.array(all_ts)"
   ]
  },
  {
   "cell_type": "code",
   "execution_count": null,
   "metadata": {},
   "outputs": [],
   "source": [
    "all_ts = collect_translations(1)\n",
    "print(all_ts.shape)"
   ]
  },
  {
   "cell_type": "code",
   "execution_count": null,
   "metadata": {},
   "outputs": [],
   "source": [
    "# Plot the data points (shift them a bit over time so we can distinguish them)\n",
    "shift = np.arange(all_ts.shape[0]).reshape((all_ts.shape[0], 1)) * 0.05\n",
    "plt.plot(all_ts[:, 0, :] + shift, all_ts[:, 1, :] + shift, '.');"
   ]
  },
  {
   "cell_type": "code",
   "execution_count": null,
   "metadata": {},
   "outputs": [],
   "source": [
    "all_ts = collect_translations(15, expected_number_of_tags=5)\n",
    "print(all_ts.shape)"
   ]
  },
  {
   "cell_type": "code",
   "execution_count": null,
   "metadata": {},
   "outputs": [],
   "source": [
    "plt.plot(all_ts[:, 0, :], all_ts[:, 1, :], '-');"
   ]
  },
  {
   "cell_type": "code",
   "execution_count": null,
   "metadata": {},
   "outputs": [],
   "source": []
  }
 ],
 "metadata": {
  "kernelspec": {
   "display_name": "Python 3",
   "language": "python",
   "name": "python3"
  },
  "language_info": {
   "codemirror_mode": {
    "name": "ipython",
    "version": 3
   },
   "file_extension": ".py",
   "mimetype": "text/x-python",
   "name": "python",
   "nbconvert_exporter": "python",
   "pygments_lexer": "ipython3",
   "version": "3.9.15"
  },
  "orig_nbformat": 4,
  "vscode": {
   "interpreter": {
    "hash": "402f513bd64bb05ccdfd11315d0c88453571d1d1d73db48414a1b2a41f771ebc"
   }
  }
 },
 "nbformat": 4,
 "nbformat_minor": 2
}
