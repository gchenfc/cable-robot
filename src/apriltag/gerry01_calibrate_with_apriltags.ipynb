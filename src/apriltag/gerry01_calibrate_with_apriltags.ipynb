{
 "cells": [
  {
   "cell_type": "code",
   "execution_count": null,
   "metadata": {},
   "outputs": [],
   "source": [
    "%load_ext autoreload\n",
    "%autoreload 1\n",
    "import numpy as np\n",
    "import matplotlib.pyplot as plt\n",
    "import time\n",
    "import scipy\n",
    "import scipy.optimize\n",
    "import threading\n",
    "import concurrent.futures\n",
    "from concurrent.futures import ThreadPoolExecutor\n",
    "%aimport read_tags, util\n",
    "from read_tags import Detector, get_local_ip\n",
    "import util\n",
    "\n",
    "import sys\n",
    "sys.path.append('..')\n",
    "%aimport gerry09.communicate\n",
    "from gerry09.communicate import CableRobot, MotorState, ControllerState"
   ]
  },
  {
   "cell_type": "code",
   "execution_count": null,
   "metadata": {},
   "outputs": [],
   "source": [
    "PORT = '/dev/tty.usbmodem103568503'\n",
    "print(f'Connect AprilTag iOS app to {get_local_ip()}')\n",
    "W_in, H_in = 227.25, 12 * 12 + 0.75 - 3\n",
    "W, H = W_in * 0.0254, H_in * 0.0254\n",
    "DEFAULT_CAMERA_PARAMS = {\n",
    "    'tag_size': 0.26416,  # meters (13/10*8 inches)\n",
    "    'f': 2900 // 2,  # focal length in pixels, adjust till depth is about 11.03m\n",
    "    'cx': 4032 // 2 // 2,  # camera center in pixels\n",
    "    'cy': 3024 // 2 // 2,  # camera center in pixels\n",
    "}  # second divide by 2 is because iOS app downsamples by 2\n",
    "TAG_LOCATIONS_IN = {\n",
    "    0: (18.75 + W_in, 34.25),  #\n",
    "    2: (-22.25, 76.5),\n",
    "    3: (-26.75, 34.0)\n",
    "}\n",
    "TAG_LOCATIONS = {k: (v[0] * 0.0254, v[1] * 0.0254) for k, v in TAG_LOCATIONS_IN.items()}\n",
    "EE_LOCATION_IN = (18.5, 2)\n",
    "EE_LOCATION = (EE_LOCATION_IN[0] * 0.0254, EE_LOCATION_IN[1] * 0.0254)"
   ]
  },
  {
   "cell_type": "markdown",
   "metadata": {},
   "source": [
    "## Data Collection"
   ]
  },
  {
   "cell_type": "code",
   "execution_count": null,
   "metadata": {},
   "outputs": [],
   "source": [
    "stop_signal = threading.Event()\n",
    "\n",
    "def collect_data_cdpr():\n",
    "    \"\"\"Collects log data from the cable robot.  Returns tuple of Nx4 arrays for lengths and vels\"\"\"\n",
    "    with CableRobot(print_raw=True, write_timeout=None, initial_msg='d10,1', port=PORT) as robot:\n",
    "        robot.update()\n",
    "        robot.all_data = []  # Flush\n",
    "        while not stop_signal.is_set():\n",
    "            robot.update()\n",
    "            time.sleep(0.001)\n",
    "        robot.send('d10,100')\n",
    "        ts = np.array([d['timestamp'] for d in robot.all_data])\n",
    "        motor_ls = np.array([[m.length for m in datum['motors']] for datum in robot.all_data])\n",
    "        motor_ldots = np.array([[m.lengthdot for m in datum['motors']] for datum in robot.all_data])\n",
    "        xy = np.array([[d['controller'].cur_x, d['controller'].cur_y] for d in robot.all_data])\n",
    "        # Discard the initial data because the timestamps are probably wrong\n",
    "        ok = (ts - ts[0]) > 0.03\n",
    "        return ts[ok], motor_ls[ok], motor_ldots[ok], xy[ok]\n",
    "def collect_data_april():\n",
    "    all_detections = []\n",
    "    with Detector(DEFAULT_CAMERA_PARAMS) as detector:\n",
    "        while not stop_signal.is_set():\n",
    "            (t_cap, t), detections = detector.detect()\n",
    "            t_now = time.time()\n",
    "            all_detections.append(((t_now - t + t_cap), detections))\n",
    "            time.sleep(0.0001)  # relinquish execution to other threads\n",
    "    # Extract tag locations\n",
    "    anchor_locs = {k: [] for k in TAG_LOCATIONS}\n",
    "    for _, dets in all_detections:\n",
    "        for d in dets:\n",
    "            if d.tag_id in TAG_LOCATIONS:\n",
    "                R, t = d.Rt()\n",
    "                anchor_locs[d.tag_id].append(t)\n",
    "    anchor_locs = {k: np.hstack(v).T for k, v in anchor_locs.items()}\n",
    "    # EE locations\n",
    "    ee_locs = {}\n",
    "    for timestamp, dets in all_detections:\n",
    "        for d in dets:\n",
    "            if d.tag_id == 4:\n",
    "                R, t = d.Rt()\n",
    "                ee_locs[timestamp] = t\n",
    "    return all_detections, anchor_locs, ee_locs\n",
    "\n",
    "def collect_data(duration=5):\n",
    "    stop_signal.clear()\n",
    "    with ThreadPoolExecutor() as executor:\n",
    "        try:\n",
    "            future1 = executor.submit(collect_data_cdpr)\n",
    "            future2 = executor.submit(collect_data_april)\n",
    "            concurrent.futures.wait([future1, future2], timeout=duration)\n",
    "            stop_signal.set()\n",
    "            t0 = time.time()\n",
    "            while (t0 + 0.5 > time.time()) and not (future1.done() and future2.done()):\n",
    "                time.sleep(0.1)\n",
    "            if future1.done() and future2.done():\n",
    "                return future1.result(), future2.result()\n",
    "        except KeyboardInterrupt:\n",
    "            stop_signal.set()\n",
    "            t0 = time.time()\n",
    "            while (t0 + 0.5 > time.time()) and not (future1.done() and future2.done()):\n",
    "                time.sleep(0.1)\n",
    "            if future1.done() and future2.done():\n",
    "                return future1.result(), future2.result()\n",
    "        print(f'Warning: Data collection might have hanged. cdpr done? {future1.done()}, april done? {future2.done()}')\n",
    "        try:\n",
    "            return future1.result(), future2.result()\n",
    "        except KeyboardInterrupt:\n",
    "            raise RuntimeError(f'Data collection failed: cdpr done? {future1.done()}, april done? {future2.done()}')"
   ]
  },
  {
   "cell_type": "code",
   "execution_count": null,
   "metadata": {},
   "outputs": [],
   "source": [
    "# Test connection\n",
    "(ts, ls, ldots, xys), (detections, anchor_locs, ee_locs) = collect_data(duration=0.5)\n",
    "print(ts.shape, ls.shape, ldots.shape, xys.shape, len(detections))\n",
    "\n",
    "mean_anchors = {k: np.mean(v, axis=0) for k, v in anchor_locs.items()}\n",
    "print(mean_anchors)\n",
    "print(TAG_LOCATIONS)\n",
    "print('predicted width: ', mean_anchors[0][0] - mean_anchors[2][0])\n",
    "print('actual width:    ', TAG_LOCATIONS[0][0] - TAG_LOCATIONS[2][0])"
   ]
  },
  {
   "cell_type": "code",
   "execution_count": null,
   "metadata": {},
   "outputs": [],
   "source": [
    "if True:\n",
    "    # Collect some data\n",
    "    time.sleep(2)\n",
    "    (ts, ls, ldots, xy),  (detections, anchor_locs, ee_locs) = collect_data(duration=65)\n",
    "    print(f'Collected {len(ls)} samples')\n",
    "    print(ls[-1])\n",
    "    # Save/Load data (in case of ipynb failure)\n",
    "    np.savez('/tmp/data.npz', ls=ls, ldots=ldots, est=xy)\n",
    "    np.savez(f'/tmp/data_{time.time()}.npz', ls=ls, ldots=ldots, est=xy)\n",
    "else:\n",
    "    with np.load('/tmp/data.npz') as f:\n",
    "        ls = f['ls']\n",
    "        ldots = f['ldots']\n",
    "        xy = f['est']"
   ]
  },
  {
   "cell_type": "code",
   "execution_count": null,
   "metadata": {},
   "outputs": [],
   "source": [
    "ee_times = np.array(list(ee_locs.keys()))\n",
    "ee_xyzs = np.hstack(list(ee_locs.values())).T\n",
    "print(ee_times.shape, ee_xyzs.shape)"
   ]
  },
  {
   "cell_type": "code",
   "execution_count": null,
   "metadata": {},
   "outputs": [],
   "source": [
    "# Plot data as a sanity check\n",
    "fig, axes = plt.subplots(2, 3, sharex=False, figsize=(20, 8))\n",
    "axes = axes.flatten()\n",
    "axes[0].plot(ts - ts[0])\n",
    "axes[1].plot(ls)\n",
    "axes[2].plot(ldots);\n",
    "axes[3].plot(*xy.T)\n",
    "axes[3].axis('equal')\n",
    "for v in [anchor_locs[0], anchor_locs[3], ee_xyzs]:\n",
    "    axes[4].plot(v[:, 0], v[:, 1])\n",
    "axes[4].axis('equal')\n",
    "axes[0].set_title('times vs sample #')\n",
    "axes[1].set_title('Cable Lengths (m)')\n",
    "axes[2].set_title('Cable Velocities (m/s)')\n",
    "axes[3].set_title('xy picture of trajectory')\n",
    "fig.tight_layout()"
   ]
  },
  {
   "cell_type": "markdown",
   "metadata": {},
   "source": [
    "## Calibration"
   ]
  },
  {
   "cell_type": "code",
   "execution_count": null,
   "metadata": {},
   "outputs": [],
   "source": [
    "# First canonicalize the apriltag data\n",
    "mean_anchors = {k: np.mean(v, axis=0) for k, v in anchor_locs.items()}\n",
    "Rt = util.compute_Rt_from_anchors(TAG_LOCATIONS, mean_anchors)\n",
    "print(Rt)\n",
    "mean_anchors2 = util.apply(Rt, np.vstack(list(mean_anchors.values())))\n",
    "print('predicted width: ', mean_anchors2[0][0] - mean_anchors2[2][0])\n",
    "print('actual width:    ', TAG_LOCATIONS[0][0] - TAG_LOCATIONS[2][0])\n",
    "ee_xys = util.apply(Rt, ee_xyzs) - [*EE_LOCATION, 0]\n",
    "\n",
    "# Plot data as a sanity check\n",
    "fig, axes = plt.subplots(1, 2, sharex=False, figsize=(8, 2))\n",
    "axes[0].plot(*xy.T)\n",
    "axes[0].axis('equal')\n",
    "sc = axes[1].scatter(ee_xys[:, 0], ee_xys[:, 1], c=ee_xys[:, 2], s=1)\n",
    "axes[1].axis('equal')\n",
    "axes[0].set_title('Trajectory from proprioception')\n",
    "axes[1].set_title('Trajectory from apriltags')\n",
    "plt.colorbar(sc);"
   ]
  },
  {
   "cell_type": "code",
   "execution_count": null,
   "metadata": {},
   "outputs": [],
   "source": [
    "# Interpolate the cable lengths to match the apriltag data\n",
    "ls2 = util.align_timestamps(ts, ls, ee_times)\n",
    "print(ls.shape, ls2.shape)\n",
    "# plt.plot(ts, ls, linewidth=3)\n",
    "# plt.plot(ee_times, ls2, 'k.', markersize=1);"
   ]
  },
  {
   "cell_type": "code",
   "execution_count": null,
   "metadata": {},
   "outputs": [],
   "source": [
    "# Cable Length Calibration\n",
    "W_EE, H_EE = 20.5 * 0.0254, 15.75 * 0.0254\n",
    "INIT_MOUNTPOINTS = np.array([[W - W_EE, 0], [W - W_EE, H - H_EE], [0, H - H_EE], [0,\n",
    "                                                                                  0]]).T.flatten()\n",
    "\n",
    "# Do the calibration\n",
    "solver = util.CableLengthCalibrationWithGt(ls2, ee_xys[:, :2], INIT_MOUNTPOINTS)\n",
    "result = solver.calibrate()\n",
    "print(result.success, result.message)\n",
    "print(result.x)"
   ]
  },
  {
   "cell_type": "code",
   "execution_count": null,
   "metadata": {},
   "outputs": [],
   "source": [
    "# Extract parameters and plot\n",
    "mountPoints = solver.MOUNT_POINTS.reshape(2, 4)\n",
    "lparams = solver.lparams\n",
    "xs = solver.compute_x_estimates(subsample=10)\n",
    "print('mount points:')\n",
    "print(mountPoints)\n",
    "print('lparams:')\n",
    "print(lparams)\n",
    "\n",
    "import matplotlib as mpl\n",
    "mpl.rcParams['axes.titlesize'] = 22\n",
    "mpl.rcParams['axes.labelsize'] = 18\n",
    "\n",
    "plt.figure(figsize=(12,4))\n",
    "plt.subplot(121)\n",
    "plt.plot(ls, ':')\n",
    "plt.plot(solver.l_corr(lparams, ls), '-')\n",
    "plt.title('Cable Lengths')\n",
    "plt.legend([f'cable {i} uncalibrated' for i in range(4)] + [f'cable {i} calibrated' for i in range(4)])\n",
    "plt.xlabel('Data Sample \\# (roughly 2ms / sample)')\n",
    "plt.ylabel('Cable Length (m)')\n",
    "plt.subplot(122)\n",
    "plt.plot(xs[:, 0], xs[:, 1], label='Estimated Trajectory')\n",
    "plt.plot(ee_xys[:, 0], ee_xys[:, 1], label='Apriltag Trajectory')\n",
    "plt.title('Estimated Trajectory')\n",
    "plt.legend()\n",
    "plt.xlabel('x (m)')\n",
    "plt.ylabel('y (m)')\n",
    "plt.axis('equal');"
   ]
  },
  {
   "cell_type": "code",
   "execution_count": null,
   "metadata": {},
   "outputs": [],
   "source": [
    "mountPoints\n",
    "print('c54', *mountPoints.T.flatten().tolist(), sep=',')"
   ]
  },
  {
   "cell_type": "code",
   "execution_count": null,
   "metadata": {},
   "outputs": [],
   "source": [
    "# Output in a format that can be sent directly to the cable robot\n",
    "CARRIAGE_WIDTH, CARRIAGE_HEIGHT = 0.22377, 0.22377\n",
    "mountPoints2 = mountPoints * 1\n",
    "mountPoints2[0, 0:2] += CARRIAGE_WIDTH\n",
    "mountPoints2[1, 1:3] += CARRIAGE_HEIGHT\n",
    "print(mountPoints2) # sanity check\n",
    "# lparams2 = np.vstack((lparams[0], np.ones(4), lparams[1]))\n",
    "lparams2 = lparams\n",
    "print(lparams2) # sanity check\n",
    "print('-'*40)\n",
    "print('c54', *mountPoints2.T.flatten().tolist(), sep=',')\n",
    "print('c44', *lparams2.T.flatten().tolist(), sep=',')\n",
    "print('-'*40)\n",
    "print('c54', *mountPoints2.T.flatten().tolist(), sep=',', end=';')\n",
    "print('c44', *lparams2.T.flatten().tolist(), sep=',')"
   ]
  },
  {
   "cell_type": "code",
   "execution_count": null,
   "metadata": {},
   "outputs": [],
   "source": [
    "with CableRobot(print_raw=True, write_timeout=None, initial_msg='d10,100', port=PORT) as robot:\n",
    "    robot.update()\n",
    "with CableRobot(print_raw=True, write_timeout=None, initial_msg='d10,100', port=PORT, silent=False) as robot:\n",
    "    robot.send('g6')\n",
    "    s1 = 'c54,' + ','.join(map(str, mountPoints2.T.flatten()))\n",
    "    s2 = 'c44,' + ','.join(map(str, lparams2.T.flatten()))\n",
    "    robot.send(s1)\n",
    "    robot.send(s2)\n",
    "    for _ in range(50):\n",
    "        robot.update()\n",
    "        time.sleep(0.005)"
   ]
  },
  {
   "cell_type": "code",
   "execution_count": null,
   "metadata": {},
   "outputs": [],
   "source": []
  }
 ],
 "metadata": {
  "kernelspec": {
   "display_name": "Python 3.9.15 ('base')",
   "language": "python",
   "name": "python3"
  },
  "language_info": {
   "codemirror_mode": {
    "name": "ipython",
    "version": 3
   },
   "file_extension": ".py",
   "mimetype": "text/x-python",
   "name": "python",
   "nbconvert_exporter": "python",
   "pygments_lexer": "ipython3",
   "version": "3.9.15"
  },
  "orig_nbformat": 4,
  "vscode": {
   "interpreter": {
    "hash": "402f513bd64bb05ccdfd11315d0c88453571d1d1d73db48414a1b2a41f771ebc"
   }
  }
 },
 "nbformat": 4,
 "nbformat_minor": 2
}
