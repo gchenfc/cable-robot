{
 "cells": [
  {
   "cell_type": "code",
   "execution_count": null,
   "metadata": {},
   "outputs": [],
   "source": [
    "%load_ext autoreload\n",
    "%autoreload 2"
   ]
  },
  {
   "cell_type": "code",
   "execution_count": null,
   "metadata": {},
   "outputs": [],
   "source": [
    "import numpy as np\n",
    "import pandas as pd\n",
    "import matplotlib.pyplot as plt\n",
    "from pathlib import Path\n",
    "import parse\n",
    "import scipy.optimize\n",
    "\n",
    "import communicate\n",
    "\n",
    "ROOT = Path('/Users/gerry/DropboxGatech/Painting/Graffiti_media+data/2022-09-15_slm')\n",
    "fbase = '03_calib'"
   ]
  },
  {
   "cell_type": "code",
   "execution_count": null,
   "metadata": {},
   "outputs": [],
   "source": [
    "# Load log data\n",
    "with open(ROOT / f'{fbase}.txt', 'r') as f:\n",
    "    lines = f.readlines()\n",
    "lines = [communicate.parse_line(line) for line in lines]\n",
    "log = {'ts': [], 'xys': [], 'ls': []}\n",
    "for cdata, mdata, sdata, cstate, mstates in lines:\n",
    "    if cstate is None:\n",
    "        continue\n",
    "    log['ts'].append(cstate.time_us / 1e6)\n",
    "    log['xys'].append([cstate.cur_x, cstate.cur_y])\n",
    "    log['ls'].append([mstate.length for mstate in mstates])\n",
    "log = {k: np.array(v) for k, v in log.items()}\n",
    "\n",
    "# Fix log timestamps\n",
    "bad = np.where(np.diff(log['ts']) < 0)[0]\n",
    "for i in bad:\n",
    "    log['ts'][i + 1:] += 10\n",
    "log['ts'] -= log['ts'][0]"
   ]
  },
  {
   "cell_type": "code",
   "execution_count": null,
   "metadata": {},
   "outputs": [],
   "source": [
    "# Load mocap data\n",
    "data = pd.read_csv(ROOT / f'{fbase}.csv', skiprows=1)\n",
    "\n",
    "get_xyz = lambda name: data.loc[4:, data.loc[0] == name].values.astype(float)\n",
    "ees_ = get_xyz('ee')\n",
    "frames = [get_xyz(i) for i in '0123']"
   ]
  },
  {
   "cell_type": "code",
   "execution_count": null,
   "metadata": {},
   "outputs": [],
   "source": [
    "frame = np.array([np.nanmean(corner, axis=0) for corner in frames])\n",
    "ees = ees_ - frame[3]\n",
    "frame = frame - frame[3]\n",
    "mocap_ls = ees.reshape(-1, 3, 1) - frame.T.reshape(1, 3, 4)\n",
    "mocap_ls[:, 0, :] = 0\n",
    "mocap_ls = np.sqrt(np.sum(np.square(mocap_ls), axis=1))\n",
    "mocap_ts = np.arange(0, mocap_ls.shape[0]) / 120\n",
    "print(mocap_ls.shape)"
   ]
  },
  {
   "cell_type": "code",
   "execution_count": null,
   "metadata": {},
   "outputs": [],
   "source": [
    "# Calibration\n",
    "# INIT_PARAMS = lambda ls: np.array([0,0,0,0,1,1,1,1,*(-ls.mean(axis=0) + 1.5)])\n",
    "INIT_PARAMS = lambda ls: np.array([0, 0, 0, 0, 1, 1, 1, 1, *(-ls.mean(axis=0) + 1.5), 0])\n",
    "\n",
    "\n",
    "# Helper functions\n",
    "def l_corr(ls, params):\n",
    "    params = params.reshape(-1, 4)\n",
    "    # return params[0] * np.square(ls) + (1 + 0.05 * np.tanh(params[1])) * ls + params[2]\n",
    "    return params[0] * np.square(ls) + ls * params[1] + params[2]\n",
    "    return np.sqrt(np.square(ls * params[1] + params[2]) - params[0])\n",
    "\n",
    "\n",
    "def err(params):\n",
    "    corrected_ls = l_corr(log['ls'], params[:-1])\n",
    "    timeshift = params[-1]\n",
    "    return np.hstack([\n",
    "        np.interp(log['ts'] + timeshift, mocap_ts, mocap_l) - corrected_l\n",
    "        for mocap_l, corrected_l in zip(mocap_ls.T, corrected_ls.T)\n",
    "    ])\n",
    "\n",
    "\n",
    "# Actual Calibrate Function Call\n",
    "sol = scipy.optimize.least_squares(err, INIT_PARAMS(log['ls']), verbose=2, method='lm')\n",
    "params = sol.x[:-1]\n",
    "timeshift = sol.x[-1]\n",
    "log['ls_corr'] = l_corr(log['ls'], params)\n"
   ]
  },
  {
   "cell_type": "code",
   "execution_count": null,
   "metadata": {},
   "outputs": [],
   "source": [
    "fig, axes = plt.subplots(1, 4, figsize=(16, 4))\n",
    "for ax, cablei in zip(axes, range(4)):\n",
    "    ax.plot(log['ts'] + timeshift, log['ls'][:, cablei], 'r.')\n",
    "    ax.plot(log['ts'] + timeshift, log['ls_corr'][:, cablei], 'g.-')\n",
    "    ax.plot(mocap_ts, mocap_ls[:, cablei], 'k-')"
   ]
  },
  {
   "cell_type": "code",
   "execution_count": null,
   "metadata": {},
   "outputs": [],
   "source": [
    "# Output\n",
    "params_to_print = params.reshape(-1, 4).T.flatten()\n",
    "print('c54,' + ','.join(map(str, frame[:, [2, 1]].flatten())))\n",
    "print('c44,' + ','.join(map(str, params_to_print)))\n",
    "print('-' * 50)\n",
    "print('c54,' + ','.join(map(str, frame[:, [2, 1]].flatten())), end=';')\n",
    "print('c44,' + ','.join(map(str, params_to_print)))"
   ]
  },
  {
   "cell_type": "code",
   "execution_count": null,
   "metadata": {},
   "outputs": [],
   "source": []
  }
 ],
 "metadata": {
  "kernelspec": {
   "display_name": "Python 3.9.6 ('base')",
   "language": "python",
   "name": "python3"
  },
  "language_info": {
   "codemirror_mode": {
    "name": "ipython",
    "version": 3
   },
   "file_extension": ".py",
   "mimetype": "text/x-python",
   "name": "python",
   "nbconvert_exporter": "python",
   "pygments_lexer": "ipython3",
   "version": "3.9.15"
  },
  "orig_nbformat": 4,
  "vscode": {
   "interpreter": {
    "hash": "402f513bd64bb05ccdfd11315d0c88453571d1d1d73db48414a1b2a41f771ebc"
   }
  }
 },
 "nbformat": 4,
 "nbformat_minor": 2
}
