{
 "cells": [
  {
   "cell_type": "code",
   "execution_count": 2,
   "metadata": {},
   "outputs": [],
   "source": [
    "from communicate import CableRobot, MotorState, ControllerState\n",
    "import numpy as np\n",
    "import matplotlib.pyplot as plt"
   ]
  },
  {
   "cell_type": "code",
   "execution_count": 3,
   "metadata": {},
   "outputs": [],
   "source": [
    "# Function for recording data\n",
    "def collect_points(N):\n",
    "    motor_ls = []\n",
    "    motor_ldots = []\n",
    "    xy = []\n",
    "    for i in range(N):\n",
    "        input(f'Press enter to record point {i}')\n",
    "        a, b, c = collect_data(0.5)\n",
    "        motor_ls.append(a[-1])\n",
    "        motor_ldots.append(b[-1])\n",
    "        xy.append(c[-1])\n",
    "        print(f'point {i}: ', motor_ls[-1], motor_ldots[-1], xy[-1])\n",
    "    return np.array(motor_ls), np.array(motor_ldots), np.array(xy)\n"
   ]
  },
  {
   "cell_type": "code",
   "execution_count": null,
   "metadata": {},
   "outputs": [],
   "source": [
    "# Collect 4 corners, in order: BR, TR, TL, BL\n",
    "# For each of the 4 corners, put the brush in \"painting\" position and just barely touch the mullions with the brush.\n",
    "USE_CORNERS = True\n",
    "if False:\n",
    "    # Collect some data\n",
    "    ls4, ldots4, xy4 = collect_points(4)\n",
    "    print(ls4)\n",
    "    print(ldots4)\n",
    "    print(xy4)\n",
    "    # Save/Load data (in case of ipynb failure)\n",
    "    np.savez('/tmp/4pts_data.npz', ls4=ls4, ldots4=ldots4, est4=xy4)\n",
    "    np.savez(f'/tmp/4pts_data_{time.time()}.npz', ls4=ls4, ldots4=ldots4, est4=xy4)\n",
    "else:\n",
    "    with np.load('/tmp/4pts_data.npz') as f:\n",
    "        ls4 = f['ls4']\n",
    "        ldots4 = f['ldots4']\n",
    "        xy4 = f['est4']\n",
    "\n",
    "# print(ls4)\n",
    "# print(ldots4)\n",
    "# print(xy4)"
   ]
  },
  {
   "cell_type": "code",
   "execution_count": 4,
   "metadata": {},
   "outputs": [],
   "source": [
    "PANE = 'CENTER_BOTTOM'"
   ]
  },
  {
   "cell_type": "code",
   "execution_count": 5,
   "metadata": {},
   "outputs": [
    {
     "name": "stdout",
     "output_type": "stream",
     "text": [
      "sanity check: pane width (84\"=2.1336m): X2 - X1 = 2.1350000000000002\n",
      "              total width (5.833m): X2 + X1 = 5.835000000000001\n",
      "Corner Locs: (using bottom-left coordinate system)\n",
      "[[3.7555 0.4375]\n",
      " [3.7555 2.2145]\n",
      " [1.6595 2.2145]\n",
      " [1.6595 0.4375]]\n",
      "Expected Corner Locs: (using carriage-center coordinate system)\n",
      "[[4.0222 0.628 ]\n",
      " [4.0222 2.405 ]\n",
      " [1.9262 2.405 ]\n",
      " [1.9262 0.628 ]]\n",
      "60mm buffer limits: (using carriage-center coordinate system)\n",
      "xLl1.9667000000000001;xLr3.9817000000000005;xLd0.6685;xLu2.3644999999999996\n",
      "gs0;xLl1.9667000000000001;xLr3.9817000000000005;xLd0.6685;xLu2.3644999999999996;gs1;xLl1.9667000000000001;xLr3.9817000000000005;xLd0.6685;xLu2.3644999999999996;gs2;xLl1.9667000000000001;xLr3.9817000000000005;xLd0.6685;xLu2.3644999999999996;gs0;xLl1.9667000000000001;xLr3.9817000000000005;xLd0.6685;xLu2.3644999999999996;\n"
     ]
    }
   ],
   "source": [
    "# 4 Corner Constants\n",
    "# First define X1, X2, Y1, Y2 are the bounds of the pane relative to the bottom-left pulley.\n",
    "if PANE == 'CENTER_BOTTOM':\n",
    "    PULLEY_O = .037\n",
    "    X1 = 1.887 - PULLEY_O\n",
    "    X2 = 4.022 - PULLEY_O\n",
    "    Y1 = 5.417 - 4.614\n",
    "    Y2 = Y1 + 1.816\n",
    "elif PANE == 'CENTER_TOP':\n",
    "    raise NotImplementedError\n",
    "elif PANE == 'LEFT_MID_HALF':\n",
    "    raise NotImplementedError\n",
    "elif PANE == 'RIGHT_MID_HALF':\n",
    "    raise NotImplementedError\n",
    "\n",
    "print(f'sanity check: pane width (84\"=2.1336m): {X2 - X1 = }')\n",
    "if 'CENTER' in PANE:\n",
    "    print(f'              total width (5.833m): {X2 + X1 = }')\n",
    "\n",
    "BRUSH_R = (3.1e-2 + 0.8e-2) / 2 # 3.1cm brush diameter, 0.8cm fuzz factor\n",
    "baseTbrush = np.array([21.0e-2, 38.5e-2])       # brush in the base coordinate frame\n",
    "baseTcdprrest = -np.array([0.5334, 0.381]) / 2  # cdpr has a carriagewidth/2 offset we need to correct for\n",
    "XY4 = np.array([[X2 - BRUSH_R, Y1 + BRUSH_R],\n",
    "                [X2 - BRUSH_R, Y2 - BRUSH_R],\n",
    "                [X1 + BRUSH_R, Y2 - BRUSH_R],\n",
    "                [X1 + BRUSH_R, Y1 + BRUSH_R]]) - baseTbrush\n",
    "print('Corner Locs: (using bottom-left coordinate system)')\n",
    "print(XY4)\n",
    "\n",
    "print('Expected Corner Locs: (using carriage-center coordinate system)')\n",
    "print(XY4 - baseTcdprrest)\n",
    "print('60mm buffer limits: (using carriage-center coordinate system)')\n",
    "XY60 = np.array([[X2 - 0.06, Y1 + 0.06],\n",
    "                 [X2 - 0.06, Y2 - 0.06],\n",
    "                 [X1 + 0.06, Y2 - 0.06],\n",
    "                 [X1 + 0.06, Y1 + 0.06]]) - baseTbrush - baseTcdprrest\n",
    "s = f'xLl{XY60[2][0]};xLr{XY60[0][0]};xLd{XY60[0][1]};xLu{XY60[1][1]}'\n",
    "print(s)\n",
    "print(f'gs0;{s};gs1;{s};gs2;{s};gs0;{s};')"
   ]
  },
  {
   "cell_type": "code",
   "execution_count": 6,
   "metadata": {},
   "outputs": [],
   "source": [
    "# Compute an xy homography correction using the 4 corners\n",
    "def compute_H(act, est):\n",
    "    # act is 2x4, est is 2x4\n",
    "    A = np.zeros((8, 9))\n",
    "    for i in range(4):\n",
    "        A[2*i, 0:3] = act[:, i]\n",
    "        A[2*i, 6:9] = -est[0, i] * act[:, i]\n",
    "        A[2*i+1, 3:6] = act[:, i]\n",
    "        A[2*i+1, 6:9] = -est[1, i] * act[:, i]\n",
    "    _, _, V = np.linalg.svd(A)\n",
    "    H = V[-1, :].reshape(3, 3)\n",
    "    return H\n",
    "\n",
    "def make_homogeneous(x):\n",
    "    return np.vstack((x, np.ones(x.shape[1])))"
   ]
  },
  {
   "cell_type": "code",
   "execution_count": 7,
   "metadata": {},
   "outputs": [
    {
     "ename": "NameError",
     "evalue": "name 'predicted_x' is not defined",
     "output_type": "error",
     "traceback": [
      "\u001b[0;31m---------------------------------------------------------------------------\u001b[0m",
      "\u001b[0;31mNameError\u001b[0m                                 Traceback (most recent call last)",
      "Cell \u001b[0;32mIn [7], line 1\u001b[0m\n\u001b[0;32m----> 1\u001b[0m H \u001b[38;5;241m=\u001b[39m compute_H(make_homogeneous(XY4\u001b[38;5;241m.\u001b[39mT), make_homogeneous(\u001b[43mpredicted_x\u001b[49m\u001b[38;5;241m.\u001b[39mT))\n\u001b[1;32m      2\u001b[0m \u001b[38;5;28mprint\u001b[39m(H)\n\u001b[1;32m      4\u001b[0m \u001b[38;5;66;03m# Sanity check\u001b[39;00m\n",
      "\u001b[0;31mNameError\u001b[0m: name 'predicted_x' is not defined"
     ]
    }
   ],
   "source": [
    "H = compute_H(make_homogeneous(XY4.T), make_homogeneous(predicted_x.T))\n",
    "print(H)\n",
    "\n",
    "# Sanity check\n",
    "def apply_H(good):\n",
    "    pred = H @ make_homogeneous(good.T)\n",
    "    pred /= pred[-1, :]\n",
    "    return pred[:-1, :].T\n",
    "print('applying homography to expected corners: ', apply_H(XY4))\n",
    "print('actual measure corners:                  ', predicted_x)"
   ]
  },
  {
   "cell_type": "code",
   "execution_count": null,
   "metadata": {},
   "outputs": [],
   "source": [
    "# Here are the limits we should use post-homography\n",
    "print('60mm buffer limits:')\n",
    "XY60_cdpr_coords = apply_H(XY60)\n",
    "print(XY60_cdpr_coords)\n",
    "xmin, xmax = min(XY60_cdpr_coords[:, 0]), max(XY60_cdpr_coords[:, 0])\n",
    "ymin, ymax = min(XY60_cdpr_coords[:, 1]), max(XY60_cdpr_coords[:, 1])\n",
    "s = f'xLl{xmin};xLr{xmax};xLd{ymin};xLu{ymax}'\n",
    "print(s)\n",
    "print(f'gs0;{s};gs1;{s};gs2;{s};gs0;{s};')\n",
    "print('The following should be typed into gcode webpage:')\n",
    "print('H:')\n",
    "print(H.tolist())\n",
    "print('Expected Mural Translation:')\n",
    "print(np.min(XY60, axis=0))\n",
    "print('Expected Mural Dimensions (with the given scale factor, this should be the total width & height):')\n",
    "print(np.max(XY60, axis=0) - np.min(XY60, axis=0))\n",
    "# print((np.max(XY60, axis=0) - np.min(XY60, axis=0)) + 0.12)"
   ]
  },
  {
   "cell_type": "code",
   "execution_count": null,
   "metadata": {},
   "outputs": [],
   "source": [
    "plt.plot(*XY60.T, 'r*')\n",
    "plt.plot(*XY60_cdpr_coords.T, 'k*')"
   ]
  },
  {
   "cell_type": "code",
   "execution_count": null,
   "metadata": {},
   "outputs": [],
   "source": [
    "# To test the gcode homography, for the first\n",
    "X, Y = 1355.851/1e3, 12.000/1e3\n",
    "print('Original: ', X, Y)\n",
    "X, Y = (X * 0.94379391 + 1.9667), (Y * 0.93413831 + 0.6685)\n",
    "print(X, Y)\n",
    "print('To be sent to the robot:')\n",
    "apply_H(np.array([[X, Y]]).reshape(1, 2))"
   ]
  }
 ],
 "metadata": {
  "kernelspec": {
   "display_name": "base",
   "language": "python",
   "name": "python3"
  },
  "language_info": {
   "codemirror_mode": {
    "name": "ipython",
    "version": 3
   },
   "file_extension": ".py",
   "mimetype": "text/x-python",
   "name": "python",
   "nbconvert_exporter": "python",
   "pygments_lexer": "ipython3",
   "version": "3.9.15"
  }
 },
 "nbformat": 4,
 "nbformat_minor": 2
}
