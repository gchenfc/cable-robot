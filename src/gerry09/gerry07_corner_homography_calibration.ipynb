{
 "cells": [
  {
   "cell_type": "code",
   "execution_count": 3,
   "metadata": {},
   "outputs": [],
   "source": [
    "from communicate import CableRobot, MotorState, ControllerState\n",
    "import numpy as np\n",
    "import matplotlib.pyplot as plt\n",
    "import time"
   ]
  },
  {
   "cell_type": "code",
   "execution_count": 34,
   "metadata": {},
   "outputs": [],
   "source": [
    "# Function for recording data\n",
    "def collect_data(duration=5):\n",
    "    \"\"\"Collects log data from the cable robot.  Returns tuple of Nx4 arrays for lengths and vels\"\"\"\n",
    "    with CableRobot(print_raw=True, write_timeout=None, initial_msg='d10,1', port='/dev/tty.usbmodem103568503') as robot:\n",
    "        tstart = time.time()\n",
    "        while True:\n",
    "            robot.update()\n",
    "            time.sleep(0.01)\n",
    "            if (time.time() - tstart > duration):\n",
    "                break\n",
    "        robot.send('d10,100')\n",
    "    motor_ls = np.array([[m.length for m in datum['motors']] for datum in robot.all_data])\n",
    "    motor_ldots = np.array([[m.lengthdot for m in datum['motors']] for datum in robot.all_data])\n",
    "    xy = np.array([[dat['controller'].cur_x, dat['controller'].cur_y] for dat in robot.all_data])\n",
    "    xy_com = np.array([[dat['controller'].set_x, dat['controller'].set_y] for dat in robot.all_data])\n",
    "    return motor_ls, motor_ldots, xy, xy_com\n",
    "def collect_points(N):\n",
    "    motor_ls = []\n",
    "    motor_ldots = []\n",
    "    xy = []\n",
    "    xy_commanded = []\n",
    "    for i in range(N):\n",
    "        input(f'Press enter to record point {i}')\n",
    "        a, b, c, d = collect_data(0.5)\n",
    "        motor_ls.append(a[-1])\n",
    "        motor_ldots.append(b[-1])\n",
    "        xy.append(c[-1])\n",
    "        xy_commanded.append(d[-1])\n",
    "        print(f'point {i}: ', motor_ls[-1], motor_ldots[-1], xy[-1], xy_commanded[-1])\n",
    "    return np.array(motor_ls), np.array(motor_ldots), np.array(xy), np.array(xy_commanded)\n"
   ]
  },
  {
   "cell_type": "code",
   "execution_count": 35,
   "metadata": {},
   "outputs": [
    {
     "name": "stdout",
     "output_type": "stream",
     "text": [
      "point 0:  [-2.1657 -2.6816  2.8135  1.9785] [2.2417 0.261  0.0618 0.7263] [4.0604 0.6231] [4.0691 0.6144]\n"
     ]
    },
    {
     "data": {
      "text/plain": [
       "(array([[-2.1657, -2.6816,  2.8135,  1.9785]]),\n",
       " array([[2.2417, 0.261 , 0.0618, 0.7263]]),\n",
       " array([[4.0604, 0.6231]]),\n",
       " array([[4.0691, 0.6144]]))"
      ]
     },
     "execution_count": 35,
     "metadata": {},
     "output_type": "execute_result"
    }
   ],
   "source": [
    "collect_points(1)"
   ]
  },
  {
   "cell_type": "code",
   "execution_count": 37,
   "metadata": {},
   "outputs": [
    {
     "name": "stdout",
     "output_type": "stream",
     "text": [
      "point 0:  [-2.1717 -2.6958  2.8027  1.9812] [2.2421 0.2014 0.0618 0.6383] [4.0618 0.6258] [4.0724 0.6136]\n"
     ]
    },
    {
     "data": {
      "text/plain": [
       "(array([[-2.1717, -2.6958,  2.8027,  1.9812]]),\n",
       " array([[2.2421, 0.2014, 0.0618, 0.6383]]),\n",
       " array([[4.0618, 0.6258]]),\n",
       " array([[4.0724, 0.6136]]))"
      ]
     },
     "execution_count": 37,
     "metadata": {},
     "output_type": "execute_result"
    }
   ],
   "source": [
    "collect_points(1)"
   ]
  },
  {
   "cell_type": "code",
   "execution_count": 40,
   "metadata": {},
   "outputs": [
    {
     "name": "stdout",
     "output_type": "stream",
     "text": [
      "point 0:  [-2.1739 -2.7306  2.8019  1.979 ] [2.2423 0.3458 0.1199 0.7218] [4.0634 0.631 ] [4.0716 0.6258]\n",
      "point 1:  [-0.1529 -8.4853  0.1055  3.1364] [0.9332 0.9246 0.7233 0.4624] [4.0287 2.3757] [4.031 2.381]\n",
      "point 2:  [ 2.9988 -0.0316 -5.9821 -0.0947] [0.3594 0.5782 1.28   0.4869] [1.9066 2.3991] [1.9037 2.4021]\n",
      "point 3:  [ 1.7559  3.7874 -1.983  -2.1479] [1.067  0.0591 0.3627 1.9662] [1.9123 0.6701] [1.9058 0.6634]\n",
      "[[-2.1739 -2.7306  2.8019  1.979 ]\n",
      " [-0.1529 -8.4853  0.1055  3.1364]\n",
      " [ 2.9988 -0.0316 -5.9821 -0.0947]\n",
      " [ 1.7559  3.7874 -1.983  -2.1479]]\n",
      "[[2.2423 0.3458 0.1199 0.7218]\n",
      " [0.9332 0.9246 0.7233 0.4624]\n",
      " [0.3594 0.5782 1.28   0.4869]\n",
      " [1.067  0.0591 0.3627 1.9662]]\n",
      "[[4.0634 0.631 ]\n",
      " [4.0287 2.3757]\n",
      " [1.9066 2.3991]\n",
      " [1.9123 0.6701]]\n"
     ]
    }
   ],
   "source": [
    "# Collect 4 corners, in order: BR, TR, TL, BL\n",
    "# For each of the 4 corners, put the brush in \"painting\" position and just barely touch the mullions with the brush.\n",
    "USE_CORNERS = True\n",
    "if True:\n",
    "    # Collect some data\n",
    "    ls4, ldots4, xy4, xy_com4 = collect_points(4)\n",
    "    print(ls4)\n",
    "    print(ldots4)\n",
    "    print(xy4)\n",
    "    # Save/Load data (in case of ipynb failure)\n",
    "    np.savez('/tmp/4pts_data.npz', ls4=ls4, ldots4=ldots4, est4=xy4, com4=xy_com4)\n",
    "    np.savez(f'/tmp/4pts_data_{time.time()}.npz', ls4=ls4, ldots4=ldots4, est4=xy4, com4=xy_com4)\n",
    "else:\n",
    "    with np.load('/tmp/4pts_data.npz') as f:\n",
    "        ls4 = f['ls4']\n",
    "        ldots4 = f['ldots4']\n",
    "        xy4 = f['est4']\n",
    "        xy_com4 = f['com4']\n",
    "\n",
    "# print(ls4)\n",
    "# print(ldots4)\n",
    "# print(xy4)\n",
    "xy4 = xy_com4"
   ]
  },
  {
   "cell_type": "code",
   "execution_count": 41,
   "metadata": {},
   "outputs": [],
   "source": [
    "PANE = 'CENTER_BOTTOM'"
   ]
  },
  {
   "cell_type": "code",
   "execution_count": 46,
   "metadata": {},
   "outputs": [
    {
     "name": "stdout",
     "output_type": "stream",
     "text": [
      "sanity check: pane width (84\"=2.1336m): X2 - X1 = 2.1350000000000002\n",
      "              total width (5.833m): X2 + X1 = 5.835000000000001\n",
      "Corner Locs: (using bottom-left coordinate system)\n",
      "[[3.7555 0.4375]\n",
      " [3.7555 2.2145]\n",
      " [1.6595 2.2145]\n",
      " [1.6595 0.4375]]\n",
      "Expected Corner Locs: (using carriage-center coordinate system)\n",
      "[[4.0222 0.628 ]\n",
      " [4.0222 2.405 ]\n",
      " [1.9262 2.405 ]\n",
      " [1.9262 0.628 ]]\n",
      "60mm buffer limits: (using carriage-center coordinate system)\n",
      "[[3.9817 0.6685]\n",
      " [3.9817 2.3645]\n",
      " [1.9667 2.3645]\n",
      " [1.9667 0.6685]]\n",
      "xLl1.9667000000000001;xLr3.9817000000000005;xLd0.6685;xLu2.3644999999999996\n",
      "gs0;xLl1.9667000000000001;xLr3.9817000000000005;xLd0.6685;xLu2.3644999999999996;gs1;xLl1.9667000000000001;xLr3.9817000000000005;xLd0.6685;xLu2.3644999999999996;gs2;xLl1.9667000000000001;xLr3.9817000000000005;xLd0.6685;xLu2.3644999999999996;gs0;xLl1.9667000000000001;xLr3.9817000000000005;xLd0.6685;xLu2.3644999999999996;\n"
     ]
    }
   ],
   "source": [
    "# 4 Corner Constants\n",
    "# First define X1, X2, Y1, Y2 are the bounds of the pane relative to the bottom-left pulley.\n",
    "if PANE == 'CENTER_BOTTOM':\n",
    "    PULLEY_O = .037\n",
    "    X1 = 1.887 - PULLEY_O\n",
    "    X2 = 4.022 - PULLEY_O\n",
    "    Y1 = 5.417 - 4.614\n",
    "    Y2 = Y1 + 1.816\n",
    "elif PANE == 'CENTER_TOP':\n",
    "    raise NotImplementedError\n",
    "elif PANE == 'LEFT_MID_HALF':\n",
    "    raise NotImplementedError\n",
    "elif PANE == 'RIGHT_MID_HALF':\n",
    "    raise NotImplementedError\n",
    "\n",
    "print(f'sanity check: pane width (84\"=2.1336m): {X2 - X1 = }')\n",
    "if 'CENTER' in PANE:\n",
    "    print(f'              total width (5.833m): {X2 + X1 = }')\n",
    "\n",
    "BRUSH_R = (3.1e-2 + 0.8e-2) / 2 # 3.1cm brush diameter, 0.8cm fuzz factor\n",
    "baseTbrush = np.array([21.0e-2, 38.5e-2])       # brush in the base coordinate frame\n",
    "baseTcdprrest = -np.array([0.5334, 0.381]) / 2  # cdpr has a carriagewidth/2 offset we need to correct for\n",
    "XY4_ORIGIN = np.array([[X2 - BRUSH_R, Y1 + BRUSH_R],\n",
    "                [X2 - BRUSH_R, Y2 - BRUSH_R],\n",
    "                [X1 + BRUSH_R, Y2 - BRUSH_R],\n",
    "                [X1 + BRUSH_R, Y1 + BRUSH_R]]) - baseTbrush\n",
    "print('Corner Locs: (using bottom-left coordinate system)')\n",
    "print(XY4_ORIGIN)\n",
    "\n",
    "print('Expected Corner Locs: (using carriage-center coordinate system)')\n",
    "XY4 = XY4_ORIGIN - baseTcdprrest\n",
    "print(XY4)\n",
    "print('60mm buffer limits: (using carriage-center coordinate system)')\n",
    "XY60 = np.array([[X2 - 0.06, Y1 + 0.06],\n",
    "                 [X2 - 0.06, Y2 - 0.06],\n",
    "                 [X1 + 0.06, Y2 - 0.06],\n",
    "                 [X1 + 0.06, Y1 + 0.06]]) - baseTbrush - baseTcdprrest\n",
    "print(XY60)\n",
    "s = f'xLl{XY60[2][0]};xLr{XY60[0][0]};xLd{XY60[0][1]};xLu{XY60[1][1]}'\n",
    "print(s)\n",
    "print(f'gs0;{s};gs1;{s};gs2;{s};gs0;{s};')"
   ]
  },
  {
   "cell_type": "code",
   "execution_count": 43,
   "metadata": {},
   "outputs": [],
   "source": [
    "# Compute an xy homography correction using the 4 corners\n",
    "def compute_H(act, est):\n",
    "    # act is 2x4, est is 2x4\n",
    "    A = np.zeros((8, 9))\n",
    "    for i in range(4):\n",
    "        A[2*i, 0:3] = act[:, i]\n",
    "        A[2*i, 6:9] = -est[0, i] * act[:, i]\n",
    "        A[2*i+1, 3:6] = act[:, i]\n",
    "        A[2*i+1, 6:9] = -est[1, i] * act[:, i]\n",
    "    _, _, V = np.linalg.svd(A)\n",
    "    H = V[-1, :].reshape(3, 3)\n",
    "    return H\n",
    "\n",
    "def make_homogeneous(x):\n",
    "    return np.vstack((x, np.ones(x.shape[1])))"
   ]
  },
  {
   "cell_type": "code",
   "execution_count": 44,
   "metadata": {},
   "outputs": [
    {
     "name": "stdout",
     "output_type": "stream",
     "text": [
      "[[ 0.58137413  0.01031624 -0.03520595]\n",
      " [-0.01184055  0.57405472  0.04211308]\n",
      " [-0.00250894  0.00577445  0.57372997]]\n",
      "applying homography to expected corners:  [[4.0716 0.6258]\n",
      " [4.031  2.381 ]\n",
      " [1.9037 2.4021]\n",
      " [1.9058 0.6634]]\n",
      "actual measure corners:                   [[4.0716 0.6258]\n",
      " [4.031  2.381 ]\n",
      " [1.9037 2.4021]\n",
      " [1.9058 0.6634]]\n"
     ]
    }
   ],
   "source": [
    "H = compute_H(make_homogeneous(XY4.T), make_homogeneous(xy4.T))\n",
    "print(H)\n",
    "\n",
    "# Sanity check\n",
    "def apply_H(good):\n",
    "    pred = H @ make_homogeneous(good.T)\n",
    "    pred /= pred[-1, :]\n",
    "    return pred[:-1, :].T\n",
    "print('applying homography to expected corners: ', apply_H(XY4))\n",
    "print('actual measure corners:                  ', xy4)"
   ]
  },
  {
   "cell_type": "code",
   "execution_count": 45,
   "metadata": {},
   "outputs": [
    {
     "name": "stdout",
     "output_type": "stream",
     "text": [
      "60mm buffer limits:\n",
      "[[4.0284468  0.66723552]\n",
      " [3.99042051 2.34211012]\n",
      " [1.9445044  2.36274394]\n",
      " [1.94720604 0.70300832]]\n",
      "xLl1.9445043952568957;xLr4.02844679566135;xLd0.6672355217959156;xLu2.362743944133787\n",
      "gs0;xLl1.9445043952568957;xLr4.02844679566135;xLd0.6672355217959156;xLu2.362743944133787;gs1;xLl1.9445043952568957;xLr4.02844679566135;xLd0.6672355217959156;xLu2.362743944133787;gs2;xLl1.9445043952568957;xLr4.02844679566135;xLd0.6672355217959156;xLu2.362743944133787;gs0;xLl1.9445043952568957;xLr4.02844679566135;xLd0.6672355217959156;xLu2.362743944133787;\n",
      "The following should be typed into gcode webpage:\n",
      "H:\n",
      "[[0.5813741277729948, 0.01031623526040343, -0.03520594949787151], [-0.011840554749783615, 0.5740547151937571, 0.04211307662885223], [-0.0025089375018091764, 0.005774452266465378, 0.5737299668866128]]\n",
      "Expected Mural Translation:\n",
      "[1.9667 0.6685]\n",
      "Expected Mural Dimensions (with the given scale factor, this should be the total width & height):\n",
      "[2.015 1.696]\n"
     ]
    }
   ],
   "source": [
    "# Here are the limits we should use post-homography\n",
    "print('60mm buffer limits:')\n",
    "XY60_cdpr_coords = apply_H(XY60)\n",
    "print(XY60_cdpr_coords)\n",
    "xmin, xmax = min(XY60_cdpr_coords[:, 0]), max(XY60_cdpr_coords[:, 0])\n",
    "ymin, ymax = min(XY60_cdpr_coords[:, 1]), max(XY60_cdpr_coords[:, 1])\n",
    "s = f'xLl{xmin};xLr{xmax};xLd{ymin};xLu{ymax}'\n",
    "print(s)\n",
    "print(f'gs0;{s};gs1;{s};gs2;{s};gs0;{s};')\n",
    "print('The following should be typed into gcode webpage:')\n",
    "print('H:')\n",
    "print(H.tolist())\n",
    "print('Expected Mural Translation:')\n",
    "print(np.min(XY60, axis=0))\n",
    "print('Expected Mural Dimensions (with the given scale factor, this should be the total width & height):')\n",
    "print(np.max(XY60, axis=0) - np.min(XY60, axis=0))\n",
    "# print((np.max(XY60, axis=0) - np.min(XY60, axis=0)) + 0.12)"
   ]
  },
  {
   "cell_type": "code",
   "execution_count": 16,
   "metadata": {},
   "outputs": [
    {
     "data": {
      "text/plain": [
       "array([[4.0123, 0.671 ],\n",
       "       [4.0105, 2.435 ],\n",
       "       [1.918 , 2.4148],\n",
       "       [1.9082, 0.656 ]])"
      ]
     },
     "execution_count": 16,
     "metadata": {},
     "output_type": "execute_result"
    }
   ],
   "source": [
    "xy4"
   ]
  },
  {
   "cell_type": "code",
   "execution_count": null,
   "metadata": {},
   "outputs": [],
   "source": [
    "plt.plot(*XY60.T, 'r*')\n",
    "plt.plot(*XY60_cdpr_coords.T, 'k*')"
   ]
  },
  {
   "cell_type": "code",
   "execution_count": null,
   "metadata": {},
   "outputs": [],
   "source": [
    "# To test the gcode homography, for the first\n",
    "X, Y = 1355.851/1e3, 12.000/1e3\n",
    "print('Original: ', X, Y)\n",
    "X, Y = (X * 0.94379391 + 1.9667), (Y *   + 0.6685)\n",
    "print(X, Y)\n",
    "print('To be sent to the robot:')\n",
    "apply_H(np.array([[X, Y]]).reshape(1, 2))"
   ]
  }
 ],
 "metadata": {
  "kernelspec": {
   "display_name": "base",
   "language": "python",
   "name": "python3"
  },
  "language_info": {
   "codemirror_mode": {
    "name": "ipython",
    "version": 3
   },
   "file_extension": ".py",
   "mimetype": "text/x-python",
   "name": "python",
   "nbconvert_exporter": "python",
   "pygments_lexer": "ipython3",
   "version": "3.9.6"
  },
  "vscode": {
   "interpreter": {
    "hash": "402f513bd64bb05ccdfd11315d0c88453571d1d1d73db48414a1b2a41f771ebc"
   }
  }
 },
 "nbformat": 4,
 "nbformat_minor": 2
}
