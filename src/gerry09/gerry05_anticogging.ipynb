{
 "cells": [
  {
   "attachments": {},
   "cell_type": "markdown",
   "metadata": {},
   "source": [
    "## Note: this doesn't work super reliably yet, mainly because the CAN messages for pos/vel gains aren't updated in ODrive firmware."
   ]
  },
  {
   "cell_type": "code",
   "execution_count": null,
   "metadata": {},
   "outputs": [],
   "source": [
    "%load_ext autoreload\n",
    "%autoreload 1\n",
    "%aimport communicate\n",
    "from communicate import CableRobot, MotorState, ControllerState\n",
    "import numpy as np\n",
    "import time\n",
    "from IPython.display import clear_output"
   ]
  },
  {
   "cell_type": "code",
   "execution_count": null,
   "metadata": {},
   "outputs": [],
   "source": [
    "PORT = '/dev/tty.usbmodem103568503'\n",
    "start_positions = {} # axis -> position"
   ]
  },
  {
   "cell_type": "code",
   "execution_count": null,
   "metadata": {},
   "outputs": [],
   "source": [
    "def configure_anticogging(axis, robot=None):\n",
    "    with CableRobot(print_raw=True, silent=False, write_timeout=None, port=PORT) as robot:\n",
    "        if hasattr(axis, '__iter__'):\n",
    "            axes = axis\n",
    "            del axis\n",
    "        else:\n",
    "            axes = [axis]\n",
    "        for axis in axes:\n",
    "            robot.update()\n",
    "            robot.send(f'c{axis}')  # calibrate\n",
    "        robot.silent = True\n",
    "        print(robot.log_data['controller'])\n",
    "        print('Waiting to begin calibration...')\n",
    "        for axis in axes:\n",
    "            while robot.log_data['motors'][axis] is None or robot.log_data['motors'][axis].state <= 1: # wait for calibration to begin\n",
    "                robot.update()\n",
    "                time.sleep(0.05)\n",
    "        print('Waiting to finish calibration...')\n",
    "        for axis in axes:\n",
    "            while robot.log_data['motors'][axis].state != 1: # wait for calibration to finish\n",
    "                robot.update()\n",
    "                time.sleep(0.05)\n",
    "        print('Starting anticogging calibration!')\n",
    "        time.sleep(0.2)\n",
    "        robot.update()\n",
    "        for axis in axes:\n",
    "            start_positions[axis] = robot.log_data['motors'][axis].length\n",
    "        robot.silent = False\n",
    "        for axis in axes:\n",
    "            robot.send(f'{axis}n27c0.2,5.0')  # set vel gains\n",
    "            robot.send(f'{axis}n26c50.0')  # set pos gain\n",
    "            robot.send(f'{axis}n11c3,1')  # set controller mode to position, passthrough\n",
    "            robot.send(f'{axis}n7c8')  # start closed loop control\n",
    "            robot.send(f'{axis}n16c')  # start anticogging\n",
    "        robot.update()\n",
    "        time.sleep(0.5)\n",
    "        robot.update()\n",
    "def set_gains(axis, vel_gain, vel_integrator_gain, pos_gain):\n",
    "    with CableRobot(print_raw=True, silent=False, write_timeout=None, port=PORT) as robot:\n",
    "        robot.send(f'{axis}n26c{pos_gain}')  # set pos gain\n",
    "        robot.send(f'{axis}n27c{vel_gain},{vel_integrator_gain}')  # set vel gains\n",
    "        robot.update()\n",
    "        time.sleep(0.1)\n",
    "        robot.update()\n",
    "def enable_all():\n",
    "    with CableRobot(print_raw=True, silent=False, write_timeout=None, port=PORT) as robot:\n",
    "        for i in range(4):\n",
    "            robot.send(f'{i}n7c8')  # start closed loop control\n",
    "        robot.update()"
   ]
  },
  {
   "cell_type": "code",
   "execution_count": null,
   "metadata": {},
   "outputs": [],
   "source": [
    "configure_anticogging([0, 1, 2, 3])"
   ]
  },
  {
   "cell_type": "code",
   "execution_count": null,
   "metadata": {},
   "outputs": [],
   "source": [
    "enable_all()"
   ]
  },
  {
   "cell_type": "code",
   "execution_count": null,
   "metadata": {},
   "outputs": [],
   "source": [
    "for i in range(4):\n",
    "    set_gains(i, 0.5, 5.0, 30.0)"
   ]
  },
  {
   "cell_type": "code",
   "execution_count": null,
   "metadata": {},
   "outputs": [],
   "source": [
    "def monitor_anticogging(axes=[0, 1, 2, 3]):\n",
    "    with CableRobot(print_raw=True, silent=True, write_timeout=None, port=PORT) as robot:\n",
    "        while True:\n",
    "            clear_output(wait=True)\n",
    "            robot.update()\n",
    "            if robot.log_data['motors'][axes[0]] is None:\n",
    "                continue\n",
    "            ls = [robot.log_data['motors'][axis].length - start_positions[axis] for axis in axes]\n",
    "            print('  '.join(f'{l:7.4f}' for l in ls))\n",
    "            time.sleep(0.03)\n",
    "try:\n",
    "    monitor_anticogging([0, 1, 2, 3])\n",
    "except KeyboardInterrupt:\n",
    "    pass"
   ]
  },
  {
   "cell_type": "code",
   "execution_count": null,
   "metadata": {},
   "outputs": [],
   "source": []
  }
 ],
 "metadata": {
  "kernelspec": {
   "display_name": "Python 3",
   "language": "python",
   "name": "python3"
  },
  "language_info": {
   "codemirror_mode": {
    "name": "ipython",
    "version": 3
   },
   "file_extension": ".py",
   "mimetype": "text/x-python",
   "name": "python",
   "nbconvert_exporter": "python",
   "pygments_lexer": "ipython3",
   "version": "3.9.15"
  },
  "orig_nbformat": 4,
  "vscode": {
   "interpreter": {
    "hash": "402f513bd64bb05ccdfd11315d0c88453571d1d1d73db48414a1b2a41f771ebc"
   }
  }
 },
 "nbformat": 4,
 "nbformat_minor": 2
}
