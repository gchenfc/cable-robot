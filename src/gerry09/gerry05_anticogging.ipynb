{
 "cells": [
  {
   "attachments": {},
   "cell_type": "markdown",
   "metadata": {},
   "source": [
    "## Note: this doesn't work super reliably yet, mainly because the CAN messages for pos/vel gains aren't updated in ODrive firmware."
   ]
  },
  {
   "cell_type": "code",
   "execution_count": null,
   "metadata": {},
   "outputs": [],
   "source": [
    "%load_ext autoreload\n",
    "%autoreload 1\n",
    "%aimport communicate\n",
    "from communicate import CableRobot, MotorState, ControllerState\n",
    "import numpy as np\n",
    "import time"
   ]
  },
  {
   "cell_type": "code",
   "execution_count": null,
   "metadata": {},
   "outputs": [],
   "source": [
    "def configure_anticogging(axis):\n",
    "    with CableRobot(print_raw=True, silent=False, write_timeout=None, port='/dev/tty.usbmodem100994303') as robot:\n",
    "        robot.update()\n",
    "        robot.send(f'c{axis}')  # calibrate\n",
    "        robot.silent = True\n",
    "        print(robot.log_data['controller'])\n",
    "        print('Waiting to begin calibration...')\n",
    "        while robot.log_data['motors'][axis] is None or robot.log_data['motors'][axis].state <= 1: # wait for calibration to begin\n",
    "            robot.update()\n",
    "        print('Waiting to finish calibration...')\n",
    "        while robot.log_data['motors'][axis].state != 1: # wait for calibration to finish\n",
    "            robot.update()\n",
    "        print('Starting anticogging calibration!')\n",
    "        robot.silent = False\n",
    "        robot.send(f'{axis}n27c0.2,5.0')  # set vel gains\n",
    "        robot.send(f'{axis}n26c50.0')  # set pos gain\n",
    "        robot.send(f'{axis}n11c3,1')  # set controller mode to position, passthrough\n",
    "        robot.send(f'{axis}n7c8')  # start closed loop control\n",
    "        robot.send(f'{axis}n16c')  # start anticogging\n",
    "        robot.update()\n",
    "        time.sleep(0.5)\n",
    "        robot.update()\n",
    "def set_gains(axis, vel_gain, vel_integrator_gain, pos_gain):\n",
    "    with CableRobot(print_raw=True, silent=False, write_timeout=None, port='/dev/tty.usbmodem100994303') as robot:\n",
    "        robot.send(f'{axis}n26c{pos_gain}')  # set pos gain\n",
    "        robot.send(f'{axis}n27c{vel_gain},{vel_integrator_gain}')  # set vel gains\n",
    "        robot.update()\n",
    "        time.sleep(0.1)\n",
    "        robot.update()\n",
    "def enable_all():\n",
    "    with CableRobot(print_raw=True, silent=False, write_timeout=None, port='/dev/tty.usbmodem100994303') as robot:\n",
    "        for i in range(4):\n",
    "            robot.send(f'{i}n7c8')  # start closed loop control\n",
    "        robot.update()"
   ]
  },
  {
   "cell_type": "code",
   "execution_count": null,
   "metadata": {},
   "outputs": [],
   "source": [
    "configure_anticogging(0)\n",
    "configure_anticogging(1)"
   ]
  },
  {
   "cell_type": "code",
   "execution_count": null,
   "metadata": {},
   "outputs": [],
   "source": [
    "enable_all()"
   ]
  },
  {
   "cell_type": "code",
   "execution_count": null,
   "metadata": {},
   "outputs": [],
   "source": [
    "set_gains(1, 0.5, 5.0, 5.0)"
   ]
  },
  {
   "cell_type": "code",
   "execution_count": null,
   "metadata": {},
   "outputs": [],
   "source": []
  }
 ],
 "metadata": {
  "kernelspec": {
   "display_name": "Python 3",
   "language": "python",
   "name": "python3"
  },
  "language_info": {
   "codemirror_mode": {
    "name": "ipython",
    "version": 3
   },
   "file_extension": ".py",
   "mimetype": "text/x-python",
   "name": "python",
   "nbconvert_exporter": "python",
   "pygments_lexer": "ipython3",
   "version": "3.9.15"
  },
  "orig_nbformat": 4,
  "vscode": {
   "interpreter": {
    "hash": "402f513bd64bb05ccdfd11315d0c88453571d1d1d73db48414a1b2a41f771ebc"
   }
  }
 },
 "nbformat": 4,
 "nbformat_minor": 2
}
