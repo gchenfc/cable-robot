{
 "cells": [
  {
   "cell_type": "code",
   "execution_count": null,
   "metadata": {},
   "outputs": [],
   "source": [
    "%load_ext autoreload\n",
    "%autoreload 1\n",
    "%aimport communicate\n",
    "from communicate import CableRobot, MotorState, ControllerState\n",
    "import numpy as np\n",
    "import matplotlib.pyplot as plt\n",
    "import time"
   ]
  },
  {
   "cell_type": "code",
   "execution_count": null,
   "metadata": {},
   "outputs": [],
   "source": [
    "def run_traj(cycles=1, speed=0.15, amplitude=0.1, center=(1.5, 1.0)):\n",
    "    \"\"\"Sends commands to the cable robot to execute a circular trajectory.\n",
    "    Returns: (cable lengths, cable velocities, estimated xy, setpoint xy)\n",
    "    \"\"\"\n",
    "    period = 2 * np.pi * amplitude / speed\n",
    "    with CableRobot(print_raw=False, write_timeout=None, initial_msg='d10,1') as robot:\n",
    "        tstart = time.time()\n",
    "        t = lambda: time.time() - tstart\n",
    "        theta = lambda: 2 * np.pi * t() / period\n",
    "        while True:\n",
    "            robot.update()\n",
    "            robot.send('ta{:.6f},{:.6f}'.format(center[0] + amplitude * np.cos(theta()),\n",
    "                                        center[1] + amplitude * np.sin(theta())))\n",
    "            time.sleep(0.0001)\n",
    "            if (t() > period * cycles):\n",
    "                break\n",
    "    motor_ls = np.array([[m.length for m in datum['motors']] for datum in robot.all_data])\n",
    "    motor_ldots = np.array([[m.lengthdot for m in datum['motors']] for datum in robot.all_data])\n",
    "    controller_est = np.array(\n",
    "        [[datum['controller'].cur_x, datum['controller'].cur_y] for datum in robot.all_data])\n",
    "    controller_set = np.array(\n",
    "        [[datum['controller'].set_x, datum['controller'].set_y] for datum in robot.all_data])\n",
    "    robot.ser.close()\n",
    "    print(f'Collected {len(robot.all_data)} samples')\n",
    "    return motor_ls, motor_ldots, controller_est, controller_set"
   ]
  },
  {
   "cell_type": "code",
   "execution_count": null,
   "metadata": {},
   "outputs": [],
   "source": [
    "# Run trajectory / collect data\n",
    "ls, ldots, est, set = run_traj(speed=0.5, amplitude=0.2, center=(1.5, 1.3), cycles=1)"
   ]
  },
  {
   "cell_type": "code",
   "execution_count": null,
   "metadata": {},
   "outputs": [],
   "source": [
    "# Plot Data\n",
    "plt.figure(figsize=(8, 8))\n",
    "plt.plot(*est.T)\n",
    "plt.plot(*set.T)\n",
    "plt.title('Example Trajectory, Gouttefarde Controller', fontsize=24)\n",
    "plt.xlabel('x (m)', fontsize=24)\n",
    "plt.ylabel('y (m)', fontsize=24)\n",
    "plt.legend(('Estimated Position', 'Setpoint Position'))\n",
    "plt.axis('equal');"
   ]
  },
  {
   "cell_type": "code",
   "execution_count": null,
   "metadata": {},
   "outputs": [],
   "source": []
  }
 ],
 "metadata": {
  "kernelspec": {
   "display_name": "Python 3.9.6 ('base')",
   "language": "python",
   "name": "python3"
  },
  "language_info": {
   "codemirror_mode": {
    "name": "ipython",
    "version": 3
   },
   "file_extension": ".py",
   "mimetype": "text/x-python",
   "name": "python",
   "nbconvert_exporter": "python",
   "pygments_lexer": "ipython3",
   "version": "3.9.6"
  },
  "orig_nbformat": 4,
  "vscode": {
   "interpreter": {
    "hash": "402f513bd64bb05ccdfd11315d0c88453571d1d1d73db48414a1b2a41f771ebc"
   }
  }
 },
 "nbformat": 4,
 "nbformat_minor": 2
}
