{
 "cells": [
  {
   "cell_type": "code",
   "execution_count": null,
   "metadata": {},
   "outputs": [],
   "source": [
    "%load_ext autoreload\n",
    "%autoreload 1\n",
    "%aimport communicate\n",
    "from communicate import CableRobot, MotorState, ControllerState\n",
    "import numpy as np\n",
    "import matplotlib.pyplot as plt\n",
    "import time\n",
    "import scipy\n",
    "import scipy.optimize"
   ]
  },
  {
   "cell_type": "markdown",
   "metadata": {},
   "source": [
    "## Data Collection"
   ]
  },
  {
   "cell_type": "code",
   "execution_count": null,
   "metadata": {},
   "outputs": [],
   "source": [
    "def collect_data(duration=5):\n",
    "    \"\"\"Collects log data from the cable robot.  Returns tuple of Nx4 arrays for lengths and vels\"\"\"\n",
    "    robot = CableRobot( port='/dev/tty.usbmodem100994303',print_raw=True, write_timeout=None)\n",
    "    tstart = time.time()\n",
    "    while True:\n",
    "        robot.update()\n",
    "        time.sleep(0.1)\n",
    "        if (time.time() - tstart > duration):\n",
    "            break\n",
    "    motor_ls = np.array([[m.length for m in datum['motors']] for datum in robot.all_data])\n",
    "    motor_ldots = np.array([[m.lengthdot for m in datum['motors']] for datum in robot.all_data])\n",
    "    robot.ser.close()\n",
    "    return motor_ls, motor_ldots"
   ]
  },
  {
   "cell_type": "code",
   "execution_count": null,
   "metadata": {},
   "outputs": [],
   "source": [
    "# Collect some data\n",
    "time.sleep(2)\n",
    "ls, ldots = collect_data(duration=20)\n",
    "print(f'Collected {len(ls)} samples')\n",
    "print(ls[-1])\n",
    "# Save/Load data (in case of ipynb failure)\n",
    "if True:\n",
    "    np.savez('/tmp/data.npz', ls=ls, ldots=ldots)\n",
    "else:\n",
    "    with np.load('/tmp/data.npz') as f:\n",
    "        ls = f['ls']\n",
    "        ldots = f['ldots']"
   ]
  },
  {
   "cell_type": "code",
   "execution_count": null,
   "metadata": {},
   "outputs": [],
   "source": [
    "# Plot data as a sanity check\n",
    "fig, axes = plt.subplots(1, 2, sharex=True, figsize=(12, 4))\n",
    "axes[0].plot(ls)\n",
    "axes[1].plot(ldots);\n",
    "axes[0].set_title('Cable Lengths (m)')\n",
    "axes[1].set_title('Cable Velocities (m/s)')"
   ]
  },
  {
   "cell_type": "markdown",
   "metadata": {},
   "source": [
    "## Calibration"
   ]
  },
  {
   "cell_type": "code",
   "execution_count": null,
   "metadata": {},
   "outputs": [],
   "source": [
    "# Constants\n",
    "# W, H = 2.75, 2.17\n",
    "W, H = 3.05 - .22377, 2.44 - .22377\n",
    "INIT_XS = lambda ls: np.ones(ls.shape[0] * 2) * 1.5\n",
    "# INIT_LPARAMS = lambda ls: np.array([0,0,0,0,1,1,1,1,*(-ls.mean(axis=0) + 1.5)])\n",
    "INIT_LPARAMS = lambda ls: np.array([0,0,0,0,*(-ls.mean(axis=0) + 1.5)])\n",
    "INIT_MOUNTPOINTS = np.array([[W, 0], [W, H], [0, H], [0, 0]]).T.flatten()\n",
    "\n",
    "# Helper functions\n",
    "def l_corr(ls, params):\n",
    "    params = params.reshape(-1, 4)\n",
    "    # return params[0] * np.square(ls) + (1 + 0.05 * np.tanh(params[1])) * ls + params[2]\n",
    "    return params[0] * np.square(ls) + ls + params[1]\n",
    "def ik(x, mountPoints):\n",
    "    mountPoints = mountPoints.reshape(1, 2, 4)\n",
    "    mountPoints[0, :, 3] = [0, 0]\n",
    "    # mountPoints[0, :, 0] = [W, 0]\n",
    "    mountPoints[0, 1, 0] = 0\n",
    "    mountPoints[0, 0, 2] = 0\n",
    "    mountPoints = INIT_MOUNTPOINTS.reshape(1,2,4)\n",
    "    return np.sqrt(np.sum(np.square(x.reshape(-1, 2, 1) - mountPoints), axis=1))\n",
    "def err(ls, params):\n",
    "    N = ls.shape[0]\n",
    "    mountPoints = params[:8]\n",
    "    lparams = params[8:16]\n",
    "    xs = params[16:16 + 2 * N].reshape(-1, 2)\n",
    "    return (l_corr(ls, lparams) - ik(xs, mountPoints)).flatten()\n",
    "\n",
    "# Actual Calibrate Function Call\n",
    "def calibrate(ls, init_params = None):\n",
    "    if init_params is None:\n",
    "        init_params = np.concatenate((INIT_MOUNTPOINTS, INIT_LPARAMS(ls), INIT_XS(ls)))\n",
    "    return scipy.optimize.least_squares(lambda params: err(ls, params),\n",
    "                                        init_params,\n",
    "                                        verbose=2,\n",
    "                                        method='lm')\n",
    "\n",
    "# Do the calibration\n",
    "result = calibrate(ls[::250])\n",
    "print(result.success, result.message)\n",
    "INIT_MOUNTPOINTS = result.x[:8]  # hack to set initialization\n",
    "INIT_LPARAMS = lambda ls: result.x[8:16]\n",
    "result2 = calibrate(ls[::100])\n"
   ]
  },
  {
   "cell_type": "code",
   "execution_count": null,
   "metadata": {},
   "outputs": [],
   "source": [
    "# Extract parameters and plot\n",
    "mountPoints = result.x[:8].reshape(2, 4)\n",
    "lparams = result.x[8:16].reshape(-1, 4)\n",
    "xs = result.x[16:].reshape(-1, 2)\n",
    "print('mount points:')\n",
    "print(mountPoints)\n",
    "print('lparams:')\n",
    "print(lparams)\n",
    "\n",
    "import matplotlib as mpl\n",
    "mpl.rcParams['axes.titlesize'] = 22\n",
    "mpl.rcParams['axes.labelsize'] = 18\n",
    "\n",
    "plt.figure(figsize=(12,4))\n",
    "plt.subplot(121)\n",
    "plt.plot(ls, ':')\n",
    "plt.plot(l_corr(ls, lparams), '-')\n",
    "plt.title('Cable Lengths')\n",
    "plt.legend([f'cable {i} uncalibrated' for i in range(4)] + [f'cable {i} calibrated' for i in range(4)])\n",
    "plt.xlabel('Data Sample \\# (roughly 2ms / sample)')\n",
    "plt.ylabel('Cable Length (m)')\n",
    "plt.subplot(122)\n",
    "plt.plot(xs[:, 0], xs[:, 1])\n",
    "plt.title('Estimated Trajectory')\n",
    "plt.xlabel('x (m)')\n",
    "plt.ylabel('y (m)')\n",
    "plt.axis('equal');"
   ]
  },
  {
   "cell_type": "code",
   "execution_count": null,
   "metadata": {},
   "outputs": [],
   "source": [
    "# Output in a format that can be sent directly to the cable robot\n",
    "FRAME_WIDTH, FRAME_HEIGHT = 0.22377, 0.22377\n",
    "mountPoints2 = mountPoints * 1\n",
    "mountPoints2[0, 0:2] += FRAME_WIDTH\n",
    "mountPoints2[1, 1:3] += FRAME_HEIGHT\n",
    "print(mountPoints2) # sanity check\n",
    "lparams2 = np.vstack((lparams[0], np.ones(4), lparams[1]))\n",
    "print(lparams2) # sanity check\n",
    "print('-'*40)\n",
    "print('c54', *mountPoints2.T.flatten().tolist(), sep=',')\n",
    "print('c44', *lparams2.T.flatten().tolist(), sep=',')"
   ]
  },
  {
   "cell_type": "code",
   "execution_count": null,
   "metadata": {},
   "outputs": [],
   "source": []
  }
 ],
 "metadata": {
  "kernelspec": {
   "display_name": "Python 3.9.6 ('base')",
   "language": "python",
   "name": "python3"
  },
  "language_info": {
   "codemirror_mode": {
    "name": "ipython",
    "version": 3
   },
   "file_extension": ".py",
   "mimetype": "text/x-python",
   "name": "python",
   "nbconvert_exporter": "python",
   "pygments_lexer": "ipython3",
   "version": "3.9.6"
  },
  "orig_nbformat": 4,
  "vscode": {
   "interpreter": {
    "hash": "402f513bd64bb05ccdfd11315d0c88453571d1d1d73db48414a1b2a41f771ebc"
   }
  }
 },
 "nbformat": 4,
 "nbformat_minor": 2
}
