{
 "cells": [
  {
   "cell_type": "code",
   "execution_count": 22,
   "metadata": {},
   "outputs": [
    {
     "name": "stdout",
     "output_type": "stream",
     "text": [
      "The autoreload extension is already loaded. To reload it, use:\n",
      "  %reload_ext autoreload\n"
     ]
    }
   ],
   "source": [
    "%load_ext autoreload\n",
    "%autoreload 1\n",
    "%aimport communicate\n",
    "from communicate import CableRobot, MotorState, ControllerState\n",
    "import numpy as np\n",
    "import matplotlib.pyplot as plt\n",
    "import time\n",
    "import scipy\n",
    "import scipy.optimize"
   ]
  },
  {
   "cell_type": "markdown",
   "metadata": {},
   "source": [
    "## Data Collection"
   ]
  },
  {
   "cell_type": "code",
   "execution_count": 31,
   "metadata": {},
   "outputs": [],
   "source": [
    "def collect_data(duration=5):\n",
    "    \"\"\"Collects log data from the cable robot.  Returns tuple of Nx4 arrays for lengths and vels\"\"\"\n",
    "    with CableRobot(print_raw=True, write_timeout=None, initial_msg='d10,1', port='/dev/tty.usbmodem100994303') as robot:\n",
    "        tstart = time.time()\n",
    "        while True:\n",
    "            robot.update()\n",
    "            time.sleep(0.01)\n",
    "            if (time.time() - tstart > duration):\n",
    "                break\n",
    "        robot.send('d10,100')\n",
    "    motor_ls = np.array([[m.length for m in datum['motors']] for datum in robot.all_data])\n",
    "    motor_ldots = np.array([[m.lengthdot for m in datum['motors']] for datum in robot.all_data])\n",
    "    xy = np.array([[dat['controller'].cur_x, dat['controller'].cur_y] for dat in robot.all_data])\n",
    "    return motor_ls, motor_ldots, xy"
   ]
  },
  {
   "cell_type": "code",
   "execution_count": 32,
   "metadata": {},
   "outputs": [
    {
     "name": "stdout",
     "output_type": "stream",
     "text": [
      "(122, 4) (122, 4) (122, 2)\n"
     ]
    }
   ],
   "source": [
    "# Test connection\n",
    "ls, ldots, xys = collect_data(duration=0.1)\n",
    "print(ls.shape, ldots.shape, xys.shape)"
   ]
  },
  {
   "cell_type": "code",
   "execution_count": 36,
   "metadata": {},
   "outputs": [
    {
     "name": "stdout",
     "output_type": "stream",
     "text": [
      "Collected 18454 samples\n",
      "[-0.4025 -0.098   0.3831  0.2481]\n"
     ]
    }
   ],
   "source": [
    "if True:\n",
    "    # Collect some data\n",
    "    time.sleep(2)\n",
    "    ls, ldots, xy = collect_data(duration=30)\n",
    "    print(f'Collected {len(ls)} samples')\n",
    "    print(ls[-1])\n",
    "    # Save/Load data (in case of ipynb failure)\n",
    "    np.savez('/tmp/data.npz', ls=ls, ldots=ldots, est=xy)\n",
    "else:\n",
    "    with np.load('/tmp/data.npz') as f:\n",
    "        ls = f['ls']\n",
    "        ldots = f['ldots']\n",
    "        xy = f['est']"
   ]
  },
  {
   "cell_type": "code",
   "execution_count": null,
   "metadata": {},
   "outputs": [],
   "source": [
    "# Plot data as a sanity check\n",
    "fig, axes = plt.subplots(1, 3, sharex=False, figsize=(12, 4))\n",
    "axes[0].plot(ls)\n",
    "axes[1].plot(ldots);\n",
    "axes[2].plot(*xy.T)\n",
    "axes[2].axis('equal')\n",
    "axes[0].set_title('Cable Lengths (m)')\n",
    "axes[1].set_title('Cable Velocities (m/s)')"
   ]
  },
  {
   "cell_type": "markdown",
   "metadata": {},
   "source": [
    "## Calibration"
   ]
  },
  {
   "cell_type": "code",
   "execution_count": 38,
   "metadata": {},
   "outputs": [
    {
     "name": "stdout",
     "output_type": "stream",
     "text": [
      "`ftol` termination condition is satisfied.\n",
      "Function evaluations 355, initial cost 6.5406e+00, final cost 6.4942e-04, first-order optimality 1.93e-08.\n",
      "True `ftol` termination condition is satisfied.\n",
      "`ftol` termination condition is satisfied.\n",
      "Function evaluations 571, initial cost 4.4981e+00, final cost 1.3526e-03, first-order optimality 2.14e-07.\n",
      "True `ftol` termination condition is satisfied.\n",
      "`ftol` termination condition is satisfied.\n",
      "Function evaluations 2347, initial cost 2.2708e+01, final cost 7.9555e-03, first-order optimality 6.08e-08.\n",
      "True `ftol` termination condition is satisfied.\n"
     ]
    }
   ],
   "source": [
    "# Constants\n",
    "# W, H = 2.75, 2.17\n",
    "# W, H = 3.05 - .22377, 2.44 - .22377\n",
    "# W, H = 3.05, 2.44\n",
    "# W, H = 3.05, 2.34\n",
    "# W, H = 2.2 - .22377, 2.0 - .22377\n",
    "# W, H = 3.05 - 0.1778, 2.34 - 0.14\n",
    "# W, H = 2.9 - 0.184, 2.26 - 0.122\n",
    "# W, H = 2.92, 2.26\n",
    "W, H = 2.92 - 0.18, 2.26 - 0.18\n",
    "INIT_XS = lambda ls: np.ones(ls.shape[0] * 2) * 1.5\n",
    "# INIT_LPARAMS = lambda ls: np.array([0,0,0,0,1,1,1,1,*(-ls.mean(axis=0) + 1.5)])\n",
    "INIT_LPARAMS = lambda ls: np.array([0,0,0,0,1,1,1,1,*(-ls.mean(axis=0) + 1.5)])\n",
    "INIT_MOUNTPOINTS = np.array([[W, 0], [W, H], [0, H], [0, 0]]).T.flatten()\n",
    "\n",
    "# Helper functions\n",
    "def l_corr(ls, params):\n",
    "    params = params.reshape(-1, 4)\n",
    "    # return params[0] * np.square(ls) + (1 + 0.05 * np.tanh(params[1])) * ls + params[2]\n",
    "    return params[0] * np.square(ls) + ls * params[1] + params[2]\n",
    "    return np.sqrt(np.square(ls*params[1] + params[2]) - params[0])\n",
    "def ik(x, mountPoints):\n",
    "    mountPoints = mountPoints.reshape(1, 2, 4)\n",
    "    mountPoints[0, :, 3] = [0, 0]\n",
    "    # mountPoints[0, :, 0] = [W, 0]\n",
    "    mountPoints[0, 1, 0] = 0\n",
    "    mountPoints[0, 0, 2] = 0\n",
    "    mountPoints = INIT_MOUNTPOINTS.reshape(1,2,4)\n",
    "    return np.sqrt(np.sum(np.square(x.reshape(-1, 2, 1) - mountPoints), axis=1))\n",
    "def err(ls, params):\n",
    "    N = ls.shape[0]\n",
    "    mountPoints = params[:8]\n",
    "    lparams = params[8:20]\n",
    "    xs = params[20:20 + 2 * N].reshape(-1, 2)\n",
    "    return (l_corr(ls, lparams) - ik(xs, mountPoints)).flatten()\n",
    "\n",
    "# Actual Calibrate Function Call\n",
    "def calibrate(ls, init_params = None):\n",
    "    if init_params is None:\n",
    "        init_params = np.concatenate((INIT_MOUNTPOINTS, INIT_LPARAMS(ls), INIT_XS(ls)))\n",
    "    return scipy.optimize.least_squares(lambda params: err(ls, params),\n",
    "                                        init_params,\n",
    "                                        verbose=2,\n",
    "                                        method='lm')\n",
    "\n",
    "# Do the calibration\n",
    "for every in (1000, 500, 100):\n",
    "    INIT_XS = lambda ls: xy[::every, :].flatten()\n",
    "    result = calibrate(ls[::every])\n",
    "    print(result.success, result.message)\n",
    "    INIT_MOUNTPOINTS = result.x[:8]  # hack to set initialization\n",
    "    INIT_LPARAMS = lambda ls: result.x[8:20]\n",
    "# result2 = calibrate(ls[::100])\n"
   ]
  },
  {
   "cell_type": "code",
   "execution_count": null,
   "metadata": {},
   "outputs": [],
   "source": [
    "# Extract parameters and plot\n",
    "mountPoints = result.x[:8].reshape(2, 4)\n",
    "lparams = result.x[8:20].reshape(-1, 4)\n",
    "xs = result.x[20:].reshape(-1, 2)\n",
    "print('mount points:')\n",
    "print(mountPoints)\n",
    "print('lparams:')\n",
    "print(lparams)\n",
    "\n",
    "import matplotlib as mpl\n",
    "mpl.rcParams['axes.titlesize'] = 22\n",
    "mpl.rcParams['axes.labelsize'] = 18\n",
    "\n",
    "plt.figure(figsize=(12,4))\n",
    "plt.subplot(121)\n",
    "plt.plot(ls, ':')\n",
    "plt.plot(l_corr(ls, lparams), '-')\n",
    "plt.title('Cable Lengths')\n",
    "plt.legend([f'cable {i} uncalibrated' for i in range(4)] + [f'cable {i} calibrated' for i in range(4)])\n",
    "plt.xlabel('Data Sample \\# (roughly 2ms / sample)')\n",
    "plt.ylabel('Cable Length (m)')\n",
    "plt.subplot(122)\n",
    "plt.plot(xs[:, 0], xs[:, 1])\n",
    "plt.title('Estimated Trajectory')\n",
    "plt.xlabel('x (m)')\n",
    "plt.ylabel('y (m)')\n",
    "plt.axis('equal');"
   ]
  },
  {
   "cell_type": "code",
   "execution_count": 40,
   "metadata": {},
   "outputs": [
    {
     "name": "stdout",
     "output_type": "stream",
     "text": [
      "[[2.96377 2.96377 0.      0.     ]\n",
      " [0.      2.30377 2.30377 0.     ]]\n",
      "[[-0.02645913  0.00770574  0.01260881 -0.00569478]\n",
      " [ 0.9448216   0.93417262  0.93555941  0.97287572]\n",
      " [ 1.62042401  1.93830644  1.85715498  1.51999598]]\n",
      "----------------------------------------\n",
      "c54,2.96377,0.0,2.96377,2.3037699999999997,0.0,2.3037699999999997,0.0,0.0\n",
      "c44,-0.026459127222418808,0.9448215980138163,1.6204240074090472,0.007705736699218266,0.9341726175502915,1.938306441760982,0.012608814255467577,0.9355594143831162,1.857154978882296,-0.005694776737280431,0.9728757204369239,1.519995976419886\n",
      "----------------------------------------\n",
      "c54,2.96377,0.0,2.96377,2.3037699999999997,0.0,2.3037699999999997,0.0,0.0;c44,-0.026459127222418808,0.9448215980138163,1.6204240074090472,0.007705736699218266,0.9341726175502915,1.938306441760982,0.012608814255467577,0.9355594143831162,1.857154978882296,-0.005694776737280431,0.9728757204369239,1.519995976419886\n"
     ]
    }
   ],
   "source": [
    "# Output in a format that can be sent directly to the cable robot\n",
    "CARRIAGE_WIDTH, CARRIAGE_HEIGHT = 0.22377, 0.22377\n",
    "mountPoints2 = mountPoints * 1\n",
    "mountPoints2[0, 0:2] += CARRIAGE_WIDTH\n",
    "mountPoints2[1, 1:3] += CARRIAGE_HEIGHT\n",
    "print(mountPoints2) # sanity check\n",
    "# lparams2 = np.vstack((lparams[0], np.ones(4), lparams[1]))\n",
    "lparams2 = lparams\n",
    "print(lparams2) # sanity check\n",
    "print('-'*40)\n",
    "print('c54', *mountPoints2.T.flatten().tolist(), sep=',')\n",
    "print('c44', *lparams2.T.flatten().tolist(), sep=',')\n",
    "print('-'*40)\n",
    "print('c54', *mountPoints2.T.flatten().tolist(), sep=',', end=';')\n",
    "print('c44', *lparams2.T.flatten().tolist(), sep=',')"
   ]
  },
  {
   "cell_type": "code",
   "execution_count": 41,
   "metadata": {},
   "outputs": [
    {
     "name": "stdout",
     "output_type": "stream",
     "text": [
      "(cablerobot) sent: d1\\n\n",
      "(cablerobot) sent: d10,100\\n\n",
      "(cablerobot) sent: g6\\n\n",
      "(cablerobot) sent: c54,2.96377,0.0,2.96377,2.3037699999999997,0.0,2.3037699999999997,0.0,0.0\\n\n",
      "(cablerobot) sent: c44,-0.026459127222418808,0.9448215980138163,1.6204240074090472,0.007705736699218266,0.9341726175502915,1.938306441760982,0.012608814255467577,0.9355594143831162,1.857154978882296,-0.005694776737280431,0.9728757204369239,1.519995976419886\\n\n",
      "HOLD\n",
      "Setting winch 0 mount point to {2.964, 0.000}\n",
      "Setting winch 1 mount point to {2.964, 2.304}\n",
      "Setting winch 2 mount point to {0.000, 2.304}\n",
      "Setting winch 3 mount point to {0.000, 0.000}\n",
      "Setting winch 0 length correction parameters to {-0.026, 0.945, 1.620}\n",
      "Setting winch 1 length correction parameters to {0.008, 0.934, 1.938}\n",
      "Setting winch 2 length correction parameters to {0.013, 0.936, 1.857}\n",
      "Setting winch 3 length correction parameters to {-0.006, 0.973, 1.520}\n",
      "4342828 - 0: 0.0000 1.5864 0.8797 - 0.0000 1.6240 0.8500\t|\t0 8 -0.1213 -0.0000\t|\t0 8 0.0257 -0.0000\t|\t0 8 0.1307 -0.0000\t|\t0 8 0.0172 -0.0000\t|\t0\n",
      "4442826 - 0: 0.0000 1.5864 0.8797 - 0.0000 1.6240 0.8500\t|\t0 8 -0.1213 -0.0000\t|\t0 8 0.0257 -0.0000\t|\t0 8 0.1307 -0.0000\t|\t0 8 0.0172 -0.0000\t|\t0\n",
      "4542827 - 0: 0.0000 1.5864 0.8797 - 0.0000 1.6240 0.8500\t|\t0 8 -0.1213 -0.0000\t|\t0 8 0.0257 -0.0000\t|\t0 8 0.1307 -0.0000\t|\t0 8 0.0172 -0.0000\t|\t0\n"
     ]
    }
   ],
   "source": [
    "with CableRobot(print_raw=True, write_timeout=None, initial_msg='d10,100', port='/dev/tty.usbmodem100994303') as robot:\n",
    "    robot.update()\n",
    "with CableRobot(print_raw=True, write_timeout=None, initial_msg='d10,100', port='/dev/tty.usbmodem100994303', silent=False) as robot:\n",
    "    robot.send('g6')\n",
    "    s1 = 'c54,' + ','.join(map(str, mountPoints2.T.flatten()))\n",
    "    s2 = 'c44,' + ','.join(map(str, lparams2.T.flatten()))\n",
    "    robot.send(s1)\n",
    "    robot.send(s2)\n",
    "    for _ in range(50):\n",
    "        robot.update()\n",
    "        time.sleep(0.005)"
   ]
  },
  {
   "cell_type": "code",
   "execution_count": null,
   "metadata": {},
   "outputs": [],
   "source": [
    "# Optionally, send the limits of the canvas\n",
    "with CableRobot(print_raw=True, write_timeout=None, initial_msg='d10,100', port='/dev/tty.usbmodem100994303') as robot:\n",
    "    robot.update()\n",
    "with CableRobot(print_raw=True, write_timeout=None, initial_msg='d10,100', port='/dev/tty.usbmodem100994303', silent=False) as robot:\n",
    "    # These are reasonable limits for the cable robot in Klaus\n",
    "    robot.send('xLl0.7')\n",
    "    robot.send('xLd0.85')\n",
    "    robot.send('xLr2.35')\n",
    "    robot.send('xLu1.7')\n",
    "    for _ in range(50):\n",
    "        robot.update()\n",
    "        time.sleep(0.005)"
   ]
  }
 ],
 "metadata": {
  "kernelspec": {
   "display_name": "Python 3.9.15 ('base')",
   "language": "python",
   "name": "python3"
  },
  "language_info": {
   "codemirror_mode": {
    "name": "ipython",
    "version": 3
   },
   "file_extension": ".py",
   "mimetype": "text/x-python",
   "name": "python",
   "nbconvert_exporter": "python",
   "pygments_lexer": "ipython3",
   "version": "3.9.15"
  },
  "orig_nbformat": 4,
  "vscode": {
   "interpreter": {
    "hash": "402f513bd64bb05ccdfd11315d0c88453571d1d1d73db48414a1b2a41f771ebc"
   }
  }
 },
 "nbformat": 4,
 "nbformat_minor": 2
}
