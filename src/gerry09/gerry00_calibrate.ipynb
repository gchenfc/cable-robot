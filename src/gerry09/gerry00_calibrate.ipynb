{
 "cells": [
  {
   "attachments": {},
   "cell_type": "markdown",
   "metadata": {},
   "source": [
    "# Cable Robot Calibration\n",
    "\n",
    "This notebook calibrates the cable robot by recording all the motor angles as you move around the robot end effector by hand.  It then fits a model to the data and writes the parameters to the cable robot EEPROM."
   ]
  },
  {
   "cell_type": "code",
   "execution_count": null,
   "metadata": {},
   "outputs": [],
   "source": [
    "%load_ext autoreload\n",
    "%autoreload 1\n",
    "%aimport communicate\n",
    "from communicate import CableRobot, MotorState, ControllerState\n",
    "import numpy as np\n",
    "import matplotlib.pyplot as plt\n",
    "import time\n",
    "import scipy\n",
    "import scipy.optimize"
   ]
  },
  {
   "attachments": {},
   "cell_type": "markdown",
   "metadata": {},
   "source": [
    "## Data Collection\n",
    "\n",
    "First, we need to collect data of the robot being manually moved around."
   ]
  },
  {
   "cell_type": "code",
   "execution_count": null,
   "metadata": {},
   "outputs": [],
   "source": [
    "def collect_data(duration=5):\n",
    "    \"\"\"Collects log data from the cable robot.  Returns tuple of Nx4 arrays for lengths and vels\"\"\"\n",
    "    # with CableRobot(print_raw=True, write_timeout=None, initial_msg='d10,1', port='/dev/tty.usbmodem100994303') as robot:\n",
    "    with CableRobot(print_raw=True, write_timeout=None, initial_msg='d10,1', port='/dev/tty.usbmodem103568503') as robot:\n",
    "        tstart = time.time()\n",
    "        while True:\n",
    "            robot.update()\n",
    "            time.sleep(0.01)\n",
    "            if (time.time() - tstart > duration):\n",
    "                break\n",
    "        robot.send('d10,100')\n",
    "    motor_ls = np.array([[m.length for m in datum['motors']] for datum in robot.all_data])\n",
    "    motor_ldots = np.array([[m.lengthdot for m in datum['motors']] for datum in robot.all_data])\n",
    "    xy = np.array([[dat['controller'].cur_x, dat['controller'].cur_y] for dat in robot.all_data])\n",
    "    return motor_ls, motor_ldots, xy"
   ]
  },
  {
   "attachments": {},
   "cell_type": "markdown",
   "metadata": {},
   "source": [
    "Test the connection by running the following cell.  If it throws an error saying:\n",
    "* \"Resource busy\" - you probably connected to the wrong serial port in the HTML control panel.  Try manually connecting (un-select Auto-connect) or switching `AUTOCONNECT_INDEX` in `serial.js`.\n",
    "* \"No such file or directory\" - The port name is wrong.  Find the name of the \"second\" serial port of the Teensy e.g. with `ls /dev/tty.*` or Arduino > Port or device manager or something."
   ]
  },
  {
   "cell_type": "code",
   "execution_count": null,
   "metadata": {},
   "outputs": [],
   "source": [
    "# Test connection\n",
    "ls, ldots, xys = collect_data(duration=0.1)\n",
    "print(ls.shape, ldots.shape, xys.shape)"
   ]
  },
  {
   "attachments": {},
   "cell_type": "markdown",
   "metadata": {},
   "source": [
    "Assuming the connection is good, run the following cell to collect 45 seconds worth of data.  While the cell is running, manually move the robot around by hand all around the workspace."
   ]
  },
  {
   "cell_type": "code",
   "execution_count": null,
   "metadata": {},
   "outputs": [],
   "source": [
    "if True:\n",
    "    # Collect some data\n",
    "    time.sleep(2)\n",
    "    ls, ldots, xy = collect_data(duration=45)\n",
    "    print(f'Collected {len(ls)} samples')\n",
    "    print(ls[-1])\n",
    "    # Save/Load data (in case of ipynb failure)\n",
    "    np.savez('/tmp/data.npz', ls=ls, ldots=ldots, est=xy)\n",
    "else:\n",
    "    with np.load('/tmp/data.npz') as f:\n",
    "        ls = f['ls']\n",
    "        ldots = f['ldots']\n",
    "        xy = f['est']"
   ]
  },
  {
   "attachments": {},
   "cell_type": "markdown",
   "metadata": {},
   "source": [
    "Make a backup just in case, then plot the data as a sanity check.\n",
    "Hopefully, the right-most subplot looks roughly like the path you moved the robot.  If it is very different, then you'll have to try troubleshooting by:\n",
    "1. translating/scaling the path so it seems more correct relative to the robot/frame origin (bottom left)\n",
    "<!-- 2. Manually adjusting the cable zeros by manually measuring (e.g. with a tape measure) the length of each cable and typing `c30,xxx` where xxx is the length of cable 0, `c31,yyy` for cable 1, ..., `c33,zzz` for cable 3.  Also do step 3, then, re-run the data collection. -->\n",
    "2. Manually adjusting the cable calibration parameters.  Try something like this:\n",
    "  `c44,0,1,w,0,1,x,0,1,y,0,1,z`.  This is assuming the diameter of the drum is 1inch and there is no \"cable-doubling\" to get additional pulley advantage.  If there is, adjust the \"1\" accordingly (e.g. 0.5 if drum diameter is 0.5\" and 0.25 if the cables are also doubled).  The `wxyz` are the lengths of the 4 cables at the zero position - measure this manually with a tape measure (or estimate based on frame dimensions).  Then, re-run the data collection.\n",
    "3. Manually adjusting the frame calibration parameters.  Something like this: `c54,2.66,0.0,2.66,2.00,0.0,2.00,0.0,0.0` would correspond to a frame that is 2.66m wide and 2.00m tall, with the origin at the bottom left corner.  Again, re-run the data collection.\n"
   ]
  },
  {
   "cell_type": "code",
   "execution_count": null,
   "metadata": {},
   "outputs": [],
   "source": [
    "xy_bak = xy.copy()"
   ]
  },
  {
   "cell_type": "code",
   "execution_count": null,
   "metadata": {},
   "outputs": [],
   "source": [
    "# Manual adjustments\n",
    "# xy = xy_bak - [0.0, 0.2]"
   ]
  },
  {
   "cell_type": "code",
   "execution_count": null,
   "metadata": {},
   "outputs": [],
   "source": [
    "# Plot data as a sanity check\n",
    "fig, axes = plt.subplots(1, 3, sharex=False, figsize=(12, 4))\n",
    "axes[0].plot(ls)\n",
    "axes[1].plot(ldots);\n",
    "axes[2].plot(*xy.T)\n",
    "axes[2].axis('equal')\n",
    "axes[0].set_title('Cable Lengths (m)')\n",
    "axes[1].set_title('Cable Velocities (m/s)')"
   ]
  },
  {
   "attachments": {},
   "cell_type": "markdown",
   "metadata": {},
   "source": [
    "## Calibration\n",
    "\n",
    "This runs an optimization problem to try to compute the cable length parameters.\n",
    "\n",
    "Make sure to set `W, H = ` to the appropriate frame dimensions minus the end-effector dimensions.  e.g. if the frame is 3m wide but the end-effector is 0.5m, then the effective width should only be `W = 2.5`.\n",
    "\n",
    "This cell shouldn't take more than 10-15s to run.  If it's taking longer than that, it will probably fail.  Try the troubleshooting steps above."
   ]
  },
  {
   "cell_type": "code",
   "execution_count": null,
   "metadata": {},
   "outputs": [],
   "source": [
    "# Constants\n",
    "# W, H = 2.75, 2.17\n",
    "# W, H = 3.05 - .22377, 2.44 - .22377\n",
    "# W, H = 3.05, 2.44\n",
    "# W, H = 3.05, 2.34\n",
    "# W, H = 2.2 - .22377, 2.0 - .22377\n",
    "# W, H = 3.05 - 0.1778, 2.34 - 0.14\n",
    "# W, H = 2.9 - 0.184, 2.26 - 0.122\n",
    "# W, H = 2.92, 2.26\n",
    "# W, H = 2.92 - 0.18, 2.26 - 0.18\n",
    "W, H = 2.92 - 0.482, 2.26 - 0.482  # ME Capstone Arm\n",
    "# W, H = 2.92, 2.26  # ME Capstone Arm\n",
    "INIT_XS = lambda ls: np.ones(ls.shape[0] * 2) * 1.5\n",
    "# INIT_LPARAMS = lambda ls: np.array([0,0,0,0,1,1,1,1,*(-ls.mean(axis=0) + 1.5)])\n",
    "# INIT_LPARAMS = lambda ls: np.array([0,0,0,0,1,1,1,1,*(-ls.mean(axis=0) + 1.5)])\n",
    "init_ls = [1.1, 2.0, 2.0, 1.1]\n",
    "INIT_LPARAMS = lambda ls: np.array([0,0,0,0,0.5,0.25,0.25,0.5,*(-ls.mean(axis=0) + init_ls)])\n",
    "INIT_MOUNTPOINTS = np.array([[W, 0], [W, H], [0, H], [0, 0]]).T.flatten()\n",
    "\n",
    "# Helper functions\n",
    "def l_corr(ls, params):\n",
    "    params = params.reshape(-1, 4)\n",
    "    # return params[0] * np.square(ls) + (1 + 0.05 * np.tanh(params[1])) * ls + params[2]\n",
    "    return params[0] * np.square(ls) + ls * params[1] + params[2]\n",
    "    return np.sqrt(np.square(ls*params[1] + params[2]) - params[0])\n",
    "def ik(x, mountPoints):\n",
    "    mountPoints = mountPoints.reshape(1, 2, 4)\n",
    "    mountPoints[0, :, 3] = [0, 0]\n",
    "    # mountPoints[0, :, 0] = [W, 0]\n",
    "    mountPoints[0, 1, 0] = 0\n",
    "    mountPoints[0, 0, 2] = 0\n",
    "    mountPoints = INIT_MOUNTPOINTS.reshape(1,2,4)\n",
    "    return np.sqrt(np.sum(np.square(x.reshape(-1, 2, 1) - mountPoints), axis=1))\n",
    "def err(ls, params):\n",
    "    N = ls.shape[0]\n",
    "    mountPoints = params[:8]\n",
    "    lparams = params[8:20]\n",
    "    xs = params[20:20 + 2 * N].reshape(-1, 2)\n",
    "    return (l_corr(ls, lparams) - ik(xs, mountPoints)).flatten()\n",
    "\n",
    "# Actual Calibrate Function Call\n",
    "def calibrate(ls, init_params = None):\n",
    "    if init_params is None:\n",
    "        init_params = np.concatenate((INIT_MOUNTPOINTS, INIT_LPARAMS(ls), INIT_XS(ls)))\n",
    "    return scipy.optimize.least_squares(lambda params: err(ls, params),\n",
    "                                        init_params,\n",
    "                                        verbose=2,\n",
    "                                        method='lm')\n",
    "\n",
    "# Do the calibration\n",
    "# for every in (1000, 500):\n",
    "for every in (1000, 500, 100):\n",
    "    INIT_XS = lambda ls: xy[::every, :].flatten()\n",
    "    result = calibrate(ls[::every])\n",
    "    print(result.success, result.message)\n",
    "    INIT_MOUNTPOINTS = result.x[:8]  # hack to set initialization\n",
    "    INIT_LPARAMS = lambda ls: result.x[8:20]\n",
    "# result2 = calibrate(ls[::100])\n"
   ]
  },
  {
   "attachments": {},
   "cell_type": "markdown",
   "metadata": {},
   "source": [
    "Now plot the calibration results to check if it seems reasonable.  Mainly, check that the right-most sub-plot matches the path you moved the robot end effector."
   ]
  },
  {
   "cell_type": "code",
   "execution_count": null,
   "metadata": {},
   "outputs": [],
   "source": [
    "# Extract parameters and plot\n",
    "mountPoints = result.x[:8].reshape(2, 4)\n",
    "lparams = result.x[8:20].reshape(-1, 4)\n",
    "xs = result.x[20:].reshape(-1, 2)\n",
    "print('mount points:')\n",
    "print(mountPoints)\n",
    "print('lparams:')\n",
    "print(lparams)\n",
    "\n",
    "import matplotlib as mpl\n",
    "mpl.rcParams['axes.titlesize'] = 22\n",
    "mpl.rcParams['axes.labelsize'] = 18\n",
    "\n",
    "plt.figure(figsize=(12,4))\n",
    "plt.subplot(121)\n",
    "plt.plot(ls, ':')\n",
    "plt.plot(l_corr(ls, lparams), '-')\n",
    "plt.title('Cable Lengths')\n",
    "plt.legend([f'cable {i} uncalibrated' for i in range(4)] + [f'cable {i} calibrated' for i in range(4)])\n",
    "plt.xlabel('Data Sample \\# (roughly 2ms / sample)')\n",
    "plt.ylabel('Cable Length (m)')\n",
    "plt.subplot(122)\n",
    "plt.plot(xs[:, 0], xs[:, 1])\n",
    "plt.title('Estimated Trajectory')\n",
    "plt.xlabel('x (m)')\n",
    "plt.ylabel('y (m)')\n",
    "plt.axis('equal');"
   ]
  },
  {
   "attachments": {},
   "cell_type": "markdown",
   "metadata": {},
   "source": [
    "## Upload to the robot\n",
    "Now, we are going to send the calibration parameters to the robot.\n",
    "\n",
    "First we print out what we're about to send, as a final sanity check.  The first array should be the pulley locations (frame dimensions) and the second array should be the cable length paramters.  For each of the 4 columns (cables), the 3 rows are the a, b, c parameters of a quadratic:\n",
    "$$ l_{calibrated} = a l_{raw}^2 + b l_{raw} + c $$\n",
    "$a$ should be roughly 0, $b$ should be roughly the diameter of the winch in inches (divide by 2 if the cable is doubled), and $c$ should be roughly the length of the cable (in meters) at the \"home\" position of the end-effector.  The `c54` and `c44` lines are just useful references for copy-pasting if you want to send the calibration parameters manually for some reason."
   ]
  },
  {
   "cell_type": "code",
   "execution_count": null,
   "metadata": {},
   "outputs": [],
   "source": [
    "# Output in a format that can be sent directly to the cable robot\n",
    "CARRIAGE_WIDTH, CARRIAGE_HEIGHT = 0.22377, 0.22377\n",
    "mountPoints2 = mountPoints * 1\n",
    "mountPoints2[0, 0:2] += CARRIAGE_WIDTH\n",
    "mountPoints2[1, 1:3] += CARRIAGE_HEIGHT\n",
    "print(mountPoints2) # sanity check\n",
    "# lparams2 = np.vstack((lparams[0], np.ones(4), lparams[1]))\n",
    "lparams2 = lparams\n",
    "print(lparams2) # sanity check\n",
    "print('-'*40)\n",
    "print('c54', *mountPoints2.T.flatten().tolist(), sep=',')\n",
    "print('c44', *lparams2.T.flatten().tolist(), sep=',')\n",
    "print('-'*40)\n",
    "print('c54', *mountPoints2.T.flatten().tolist(), sep=',', end=';')\n",
    "print('c44', *lparams2.T.flatten().tolist(), sep=',')"
   ]
  },
  {
   "attachments": {},
   "cell_type": "markdown",
   "metadata": {},
   "source": [
    "Next, we send the above calibration parameters over serial to the cable robot.\n",
    "\n",
    "**Make sure the robot is NOT in position control mode (e.g. put in HOLD or ESTOP) before running this**\n",
    "\n",
    "Ensure that we receive all 8 acknowledgements back from the cable robot:\n",
    "> Setting winch 0 mount point to ...  \n",
    "> Setting winch 1 mount point to ...  \n",
    "> Setting winch 2 mount point to ...  \n",
    "> Setting winch 3 mount point to ...  \n",
    "> Setting winch 0 length correction parameters to ...  \n",
    "> Setting winch 1 length correction parameters to ...  \n",
    "> Setting winch 2 length correction parameters to ...  \n",
    "> Setting winch 3 length correction parameters to ...  \n",
    "\n",
    "(If not, just run this cell again until all 8 acknowledgements are printed)"
   ]
  },
  {
   "cell_type": "code",
   "execution_count": null,
   "metadata": {},
   "outputs": [],
   "source": [
    "with CableRobot(print_raw=True, write_timeout=None, initial_msg='d10,100', port='/dev/tty.usbmodem103568503') as robot:\n",
    "    robot.update()\n",
    "with CableRobot(print_raw=True, write_timeout=None, initial_msg='d10,100', port='/dev/tty.usbmodem103568503', silent=False) as robot:\n",
    "    robot.send('g6')\n",
    "    s1 = 'c54,' + ','.join(map(str, mountPoints2.T.flatten()))\n",
    "    s2 = 'c44,' + ','.join(map(str, lparams2.T.flatten()))\n",
    "    robot.send(s1)\n",
    "    robot.send(s2)\n",
    "    for _ in range(50):\n",
    "        robot.update()\n",
    "        time.sleep(0.005)"
   ]
  },
  {
   "attachments": {},
   "cell_type": "markdown",
   "metadata": {},
   "source": [
    "Finally, send some useful default settings to the robot.\n",
    "\n",
    "* `kKM300` sets the max tension to 300N\n",
    "* `kd0.5` sets the position error threshold to auto-exit position tracking mode to 0.5m\n",
    "* `xL[direction][distance]` sets the workspace limits.  Direction can be l/d/u/r for the 4 directions and distance is a distance in meters relative to the origin (use `xl[dir][val]` to be relative to frame dimensions instead).  You may find suitable limits by first going into joystick mode, making the limits super lax (e.g. `xLl0;xLr99`) and then moving the robot around to what you think are reasonable limits and reading on the messages what is the estimated x/y position.\n",
    "\n",
    "It is recommended to use this cell instead of manually sending these commands over the HTML control panel because these settings need to be set separately for each of the 3 controllers running on the cable robot!!!"
   ]
  },
  {
   "cell_type": "code",
   "execution_count": null,
   "metadata": {},
   "outputs": [],
   "source": [
    "# Optionally, send the limits of the canvas\n",
    "with CableRobot(print_raw=True, write_timeout=None, initial_msg='d10,100', port='/dev/tty.usbmodem103568503') as robot:\n",
    "    robot.update()\n",
    "with CableRobot(print_raw=True, write_timeout=None, initial_msg='d10,100', port='/dev/tty.usbmodem103568503', silent=False) as robot:\n",
    "    for i in range(3):\n",
    "        robot.send(f'gs{i}')\n",
    "        # These are reasonable limits for the cable robot in Klaus\n",
    "        # # robot.send('xLl0.7')\n",
    "        # robot.send('xLl1.0')\n",
    "        # # robot.send('xLd0.85')\n",
    "        # robot.send('xLd0.65')\n",
    "        # # robot.send('xLr2.35')\n",
    "        # robot.send('xLr1.8')\n",
    "        # # robot.send('xLu1.7')\n",
    "        # robot.send('xLu1.0')\n",
    "\n",
    "        robot.send('kKM300')\n",
    "        robot.send('kd0.5')\n",
    "\n",
    "        robot.send('xLl0.75')\n",
    "        robot.send('xLd0.5')\n",
    "        robot.send('xLr2.0')\n",
    "        robot.send('xLu1.6')\n",
    "        for _ in range(50):\n",
    "            robot.update()\n",
    "            time.sleep(0.005)\n",
    "    robot.send(f'gs0')"
   ]
  },
  {
   "cell_type": "code",
   "execution_count": null,
   "metadata": {},
   "outputs": [],
   "source": []
  }
 ],
 "metadata": {
  "kernelspec": {
   "display_name": "Python 3.9.15 ('base')",
   "language": "python",
   "name": "python3"
  },
  "language_info": {
   "codemirror_mode": {
    "name": "ipython",
    "version": 3
   },
   "file_extension": ".py",
   "mimetype": "text/x-python",
   "name": "python",
   "nbconvert_exporter": "python",
   "pygments_lexer": "ipython3",
   "version": "3.9.15"
  },
  "orig_nbformat": 4,
  "vscode": {
   "interpreter": {
    "hash": "402f513bd64bb05ccdfd11315d0c88453571d1d1d73db48414a1b2a41f771ebc"
   }
  }
 },
 "nbformat": 4,
 "nbformat_minor": 2
}
