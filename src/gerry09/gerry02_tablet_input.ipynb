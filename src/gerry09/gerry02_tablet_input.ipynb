{
 "cells": [
  {
   "cell_type": "code",
   "execution_count": null,
   "metadata": {},
   "outputs": [],
   "source": [
    "import pyglet\n",
    "import time"
   ]
  },
  {
   "cell_type": "code",
   "execution_count": null,
   "metadata": {},
   "outputs": [],
   "source": [
    "tablet = None\n",
    "for device in pyglet.input.get_devices():\n",
    "    if device.name is None or 'Tablet' not in device.name:\n",
    "        continue\n",
    "    print(device.name, type(device), device.get_controls())\n",
    "    if len(device.get_controls()) > 5:\n",
    "        tablet = device\n",
    "        break\n",
    "else:\n",
    "    print('***** Tablet not found!!! *****')\n",
    "controls = tablet.get_controls()\n",
    "for control in controls:\n",
    "    if isinstance(control, pyglet.input.base.Button):\n",
    "        print(control)\n",
    "    else:\n",
    "        print(control) # control.min, control.max\n"
   ]
  },
  {
   "cell_type": "code",
   "execution_count": null,
   "metadata": {},
   "outputs": [],
   "source": [
    "# THE GUI DOESN'T WORK PROPERLY IN IPYNB!!!\n",
    "if False:\n",
    "    window = pyglet.window.Window(1020, 576)\n",
    "\n",
    "    try:\n",
    "        canvas = tablet.open(window)\n",
    "    except pyglet.input.DeviceException:\n",
    "        print('Failed to open tablet on window')\n",
    "\n",
    "    print('Opened window')\n",
    "\n",
    "    @controls[-1].event\n",
    "    def on_change(presion):\n",
    "        print('hello')\n",
    "        for cb in my_cbs:\n",
    "            cb()\n",
    "\n",
    "    pyglet.app.run()"
   ]
  },
  {
   "cell_type": "code",
   "execution_count": null,
   "metadata": {},
   "outputs": [],
   "source": []
  }
 ],
 "metadata": {
  "kernelspec": {
   "display_name": "Python 3.9.6 ('base')",
   "language": "python",
   "name": "python3"
  },
  "language_info": {
   "codemirror_mode": {
    "name": "ipython",
    "version": 3
   },
   "file_extension": ".py",
   "mimetype": "text/x-python",
   "name": "python",
   "nbconvert_exporter": "python",
   "pygments_lexer": "ipython3",
   "version": "3.9.6"
  },
  "orig_nbformat": 4,
  "vscode": {
   "interpreter": {
    "hash": "402f513bd64bb05ccdfd11315d0c88453571d1d1d73db48414a1b2a41f771ebc"
   }
  }
 },
 "nbformat": 4,
 "nbformat_minor": 2
}
