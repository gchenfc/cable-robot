{
 "cells": [
  {
   "cell_type": "code",
   "execution_count": null,
   "metadata": {},
   "outputs": [],
   "source": [
    "%load_ext autoreload\n",
    "%autoreload 2"
   ]
  },
  {
   "cell_type": "code",
   "execution_count": null,
   "metadata": {},
   "outputs": [],
   "source": [
    "import numpy as np\n",
    "import pandas as pd\n",
    "import matplotlib.pyplot as plt\n",
    "from pathlib import Path\n",
    "import parse\n",
    "import scipy.optimize\n",
    "import pickle\n",
    "from contextlib import redirect_stdout\n",
    "\n",
    "import communicate\n",
    "\n",
    "ROOT = Path('/Users/gerry/DropboxGatech/Painting/Graffiti_media+data/2022-09-15_slm')\n",
    "fbase = '04_run'\n",
    "duration = 2.5"
   ]
  },
  {
   "cell_type": "code",
   "execution_count": null,
   "metadata": {},
   "outputs": [],
   "source": [
    "# Utils\n",
    "def get_last_first_indices(t, signal, sensitivity=0.03, timebuffer=0.1):\n",
    "    ilast = np.where(np.all(np.abs(np.diff(signal, axis=0)) > sensitivity, axis=1))[0][-1]\n",
    "    tlast = t[ilast] + timebuffer\n",
    "    ilast = np.argmin(np.abs(t - tlast))\n",
    "    ifirst = np.argmin(np.abs(t - (tlast - duration)))\n",
    "    return ifirst, ilast"
   ]
  },
  {
   "cell_type": "code",
   "execution_count": null,
   "metadata": {},
   "outputs": [],
   "source": [
    "# Load log data\n",
    "with open(ROOT / f'{fbase}.txt', 'r') as f:\n",
    "    lines = f.readlines()\n",
    "with redirect_stdout(open('/dev/null', 'w')):\n",
    "    lines = [communicate.parse_line(line) for line in lines]\n",
    "log = {'ts': [], 'xys': [], 'ls': []}\n",
    "for cdata, mdata, sdata, cstate, mstates in lines:\n",
    "    if cstate is None:\n",
    "        continue\n",
    "    log['ts'].append(cstate.time_us / 1e6)\n",
    "    log['xys'].append([cstate.cur_x, cstate.cur_y])\n",
    "    log['ls'].append([mstate.length for mstate in mstates])\n",
    "log = {k: np.array(v) for k, v in log.items()}\n",
    "\n",
    "# Fix log timestamps\n",
    "bad = np.where(np.diff(log['ts']) < 0)[0]\n",
    "for i in bad:\n",
    "    log['ts'][i + 1:] += 10\n",
    "log['ts'] -= log['ts'][0]\n",
    "\n",
    "s,e = get_last_first_indices(log['ts'], log['xys'], sensitivity=0.01, timebuffer=0.1)\n",
    "log['ts'] = log['ts'][s:e]\n",
    "log['xys'] = log['xys'][s:e]\n",
    "log['ls'] = log['ls'][s:e]\n",
    "plt.plot(log['ts'], log['xys'])"
   ]
  },
  {
   "cell_type": "code",
   "execution_count": null,
   "metadata": {},
   "outputs": [],
   "source": [
    "# Load mocap data\n",
    "data = pd.read_csv(ROOT / f'{fbase}.csv', skiprows=1)\n",
    "\n",
    "get_xyz = lambda name: data.loc[4:, data.loc[0] == name].values.astype(float)\n",
    "ees_ = get_xyz('ee')\n",
    "frames = [get_xyz(i) for i in '0123']"
   ]
  },
  {
   "cell_type": "code",
   "execution_count": null,
   "metadata": {},
   "outputs": [],
   "source": [
    "frame = np.array([np.nanmean(corner, axis=0) for corner in frames])\n",
    "ees = ees_ - frame[3]\n",
    "frame = frame - frame[3]\n",
    "mocap_ls = ees.reshape(-1, 3, 1) - frame.T.reshape(1, 3, 4)\n",
    "mocap_ls[:, 0, :] = 0\n",
    "mocap_ls = np.sqrt(np.sum(np.square(mocap_ls), axis=1))\n",
    "mocap_ts = np.arange(0, mocap_ls.shape[0]) / 120\n",
    "print(mocap_ls.shape)\n",
    "\n",
    "s,e = get_last_first_indices(mocap_ts, ees, sensitivity=0.001, timebuffer=0.1)\n",
    "ees = ees[s:e, [2, 1]]\n",
    "mocap_ts = mocap_ts[s:e]\n",
    "plt.plot(mocap_ts, ees)"
   ]
  },
  {
   "cell_type": "code",
   "execution_count": null,
   "metadata": {},
   "outputs": [],
   "source": [
    "# Load SLM data\n",
    "with open(f'/Users/gerry/GIT_REPOS/art_skills/python/src/trajectories/{fbase}.p', 'rb') as f:\n",
    "    slm = pickle.load(f)\n",
    "input_stroke = slm[-1][0]\n",
    "estimated_output = slm[-1][1]\n",
    "output_stroke = []\n",
    "for _, new_output in slm:\n",
    "    output_stroke.extend(new_output[len(output_stroke):])\n",
    "output_stroke = np.array(output_stroke)\n",
    "print(input_stroke.shape, estimated_output.shape, output_stroke.shape)"
   ]
  },
  {
   "cell_type": "code",
   "execution_count": null,
   "metadata": {},
   "outputs": [],
   "source": [
    "# Scale SLM data according to the same scaling used in realtime\n",
    "width = 2.96\n",
    "def scale(txy):\n",
    "    ret = txy * 1\n",
    "    ret[:, 1] *= width\n",
    "    ret[:, 2] = (0.64 - ret[:, 2] + 0.1) * width\n",
    "    return ret\n",
    "input_stroke_ = scale(input_stroke)\n",
    "estimated_output_ = scale(estimated_output)\n",
    "output_stroke_ = scale(output_stroke)"
   ]
  },
  {
   "cell_type": "code",
   "execution_count": null,
   "metadata": {},
   "outputs": [],
   "source": [
    "# Plot\n",
    "plt.plot(*input_stroke_[:, 1:].T, 'k', label='input')\n",
    "plt.plot(*output_stroke_[:, 1:].T, 'r', label='output')\n",
    "plt.plot(*estimated_output_[:, 1:].T, 'g', label='final estimate')\n",
    "plt.plot(*ees.T, 'k.', label='mocap')\n",
    "plt.legend()\n",
    "plt.axis('equal')\n",
    "plt.xlabel('x (m)')\n",
    "plt.ylabel('y (m)')\n",
    "plt.title('Real-time Sigma Lognormal Model Fitting and Execution on a Cable Robot (Single-Stroke)')"
   ]
  },
  {
   "cell_type": "code",
   "execution_count": null,
   "metadata": {},
   "outputs": [],
   "source": []
  }
 ],
 "metadata": {
  "kernelspec": {
   "display_name": "Python 3.9.6 ('base')",
   "language": "python",
   "name": "python3"
  },
  "language_info": {
   "codemirror_mode": {
    "name": "ipython",
    "version": 3
   },
   "file_extension": ".py",
   "mimetype": "text/x-python",
   "name": "python",
   "nbconvert_exporter": "python",
   "pygments_lexer": "ipython3",
   "version": "3.9.15"
  },
  "orig_nbformat": 4,
  "vscode": {
   "interpreter": {
    "hash": "402f513bd64bb05ccdfd11315d0c88453571d1d1d73db48414a1b2a41f771ebc"
   }
  }
 },
 "nbformat": 4,
 "nbformat_minor": 2
}
